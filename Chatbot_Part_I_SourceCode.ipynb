{
  "nbformat": 4,
  "nbformat_minor": 0,
  "metadata": {
    "colab": {
      "name": "Chatbot - Part I - SourceCode.ipynb",
      "provenance": [],
      "collapsed_sections": []
    },
    "language_info": {
      "codemirror_mode": {
        "name": "ipython",
        "version": 3
      },
      "file_extension": ".py",
      "mimetype": "text/x-python",
      "name": "python",
      "nbconvert_exporter": "python",
      "pygments_lexer": "ipython3",
      "version": "3.6.5"
    },
    "kernelspec": {
      "name": "python3",
      "display_name": "Python 3"
    }
  },
  "cells": [
    {
      "cell_type": "markdown",
      "metadata": {
        "id": "iLmNE-EJra_3"
      },
      "source": [
        "# **Collab code to mount drive**"
      ]
    },
    {
      "cell_type": "code",
      "metadata": {
        "id": "0MfH1Jl4UpHD",
        "colab": {
          "base_uri": "https://localhost:8080/"
        },
        "outputId": "cd8cce4c-4931-4ae1-e5a3-39a30046b7a2"
      },
      "source": [
        "!apt-get install -y -qq software-properties-common python-software-properties module-init-tools\n",
        "!add-apt-repository -y ppa:alessandro-strada/ppa 2>&1 > /dev/null\n",
        "!apt-get update -qq 2>&1 > /dev/null\n",
        "!apt-get -y install -qq google-drive-ocamlfuse fuse\n",
        "from google.colab import auth\n",
        "auth.authenticate_user()\n",
        "from oauth2client.client import GoogleCredentials\n",
        "creds = GoogleCredentials.get_application_default()\n",
        "import getpass\n",
        "!google-drive-ocamlfuse -headless -id={creds.client_id} -secret={creds.client_secret} < /dev/null 2>&1 | grep URL\n",
        "vcode = getpass.getpass()\n",
        "!echo {vcode} | google-drive-ocamlfuse -headless -id={creds.client_id} -secret={creds.client_secret}"
      ],
      "execution_count": null,
      "outputs": [
        {
          "output_type": "stream",
          "text": [
            "E: Package 'python-software-properties' has no installation candidate\n",
            "Selecting previously unselected package google-drive-ocamlfuse.\n",
            "(Reading database ... 160706 files and directories currently installed.)\n",
            "Preparing to unpack .../google-drive-ocamlfuse_0.7.26-0ubuntu1~ubuntu18.04.1_amd64.deb ...\n",
            "Unpacking google-drive-ocamlfuse (0.7.26-0ubuntu1~ubuntu18.04.1) ...\n",
            "Setting up google-drive-ocamlfuse (0.7.26-0ubuntu1~ubuntu18.04.1) ...\n",
            "Processing triggers for man-db (2.8.3-2ubuntu0.1) ...\n",
            "Please, open the following URL in a web browser: https://accounts.google.com/o/oauth2/auth?client_id=32555940559.apps.googleusercontent.com&redirect_uri=urn%3Aietf%3Awg%3Aoauth%3A2.0%3Aoob&scope=https%3A%2F%2Fwww.googleapis.com%2Fauth%2Fdrive&response_type=code&access_type=offline&approval_prompt=force\n",
            "··········\n",
            "Please, open the following URL in a web browser: https://accounts.google.com/o/oauth2/auth?client_id=32555940559.apps.googleusercontent.com&redirect_uri=urn%3Aietf%3Awg%3Aoauth%3A2.0%3Aoob&scope=https%3A%2F%2Fwww.googleapis.com%2Fauth%2Fdrive&response_type=code&access_type=offline&approval_prompt=force\n",
            "Please enter the verification code: Access token retrieved correctly.\n"
          ],
          "name": "stdout"
        }
      ]
    },
    {
      "cell_type": "code",
      "metadata": {
        "id": "qnmra-t6UUKX"
      },
      "source": [
        "%matplotlib inline"
      ],
      "execution_count": null,
      "outputs": []
    },
    {
      "cell_type": "code",
      "metadata": {
        "id": "6xCQ5O9IW6_2"
      },
      "source": [
        "!mkdir -p drive\n",
        "!google-drive-ocamlfuse drive\n"
      ],
      "execution_count": null,
      "outputs": []
    },
    {
      "cell_type": "markdown",
      "metadata": {
        "id": "-filq0EKtt8h"
      },
      "source": [
        "# **Loading libraries**"
      ]
    },
    {
      "cell_type": "code",
      "metadata": {
        "id": "xsKlSXiLUUKc"
      },
      "source": [
        "from __future__ import absolute_import\n",
        "from __future__ import division\n",
        "from __future__ import print_function\n",
        "from __future__ import unicode_literals\n",
        "\n",
        "import torch\n",
        "from torch.jit import script, trace\n",
        "import torch.nn as nn\n",
        "from torch import optim\n",
        "import torch.nn.functional as F\n",
        "import csv\n",
        "import random\n",
        "import re\n",
        "import os\n",
        "import unicodedata\n",
        "import codecs\n",
        "from io import open\n",
        "import itertools\n",
        "import math\n",
        "import pickle\n",
        "from torch.autograd import Variable\n",
        "\n",
        "USE_CUDA = torch.cuda.is_available()\n",
        "device = torch.device(\"cuda\" if USE_CUDA else \"cpu\")"
      ],
      "execution_count": null,
      "outputs": []
    },
    {
      "cell_type": "code",
      "metadata": {
        "colab": {
          "base_uri": "https://localhost:8080/"
        },
        "id": "Fse6lTLW9EQA",
        "outputId": "d8598b65-b8e6-4516-b3dd-f6f7f35a99f5"
      },
      "source": [
        "from google.colab import drive\n",
        "drive.mount('/content/drive')"
      ],
      "execution_count": null,
      "outputs": [
        {
          "output_type": "stream",
          "text": [
            "Mounted at /content/drive\n"
          ],
          "name": "stdout"
        }
      ]
    },
    {
      "cell_type": "code",
      "metadata": {
        "colab": {
          "base_uri": "https://localhost:8080/",
          "height": 35
        },
        "id": "xmavfid_YAz3",
        "outputId": "2774f6e3-682d-4466-f121-0f8c5dd857ff"
      },
      "source": [
        "import shutil\n",
        "source = \"/content/drive/MyDrive/chatDataset.txt\"\n",
        "shutil.copy(source, \"/content/\")"
      ],
      "execution_count": null,
      "outputs": [
        {
          "output_type": "execute_result",
          "data": {
            "application/vnd.google.colaboratory.intrinsic+json": {
              "type": "string"
            },
            "text/plain": [
              "'/content/chatDataset.txt'"
            ]
          },
          "metadata": {
            "tags": []
          },
          "execution_count": 6
        }
      ]
    },
    {
      "cell_type": "markdown",
      "metadata": {
        "id": "g55MiyIGUUKe"
      },
      "source": [
        "Load & Preprocess Data\n",
        "----------------------\n",
        "\n",
        "The `Cornell Movie-Dialogs\n",
        "Corpus <https://www.cs.cornell.edu/~cristian/Cornell_Movie-Dialogs_Corpus.html>`__\n",
        "is a rich dataset of movie character dialog:\n",
        "\n",
        "-  220,579 conversational exchanges between 10,292 pairs of movie\n",
        "   characters\n",
        "-  9,035 characters from 617 movies\n",
        "-  304,713 total utterances\n",
        "\n",
        "This dataset is large and diverse, and there is a great variation of\n",
        "language formality, time periods, sentiment, etc. Our hope is that this\n",
        "diversity makes a model robust to many forms of inputs and queries.\n",
        "\n",
        "We have already processed and extracted the dataset for you. \n",
        "\n",
        "\n",
        "\n",
        "Note that we are dealing with sequences of **words**, which do not have\n",
        "an implicit mapping to a discrete numerical space. Thus, we must create\n",
        "one by mapping each unique word that we encounter in our dataset to an\n",
        "index value.\n",
        "\n",
        "For this we define a ``Voc`` class, which keeps a mapping from words to\n",
        "indexes, a reverse mapping of indexes to words, a count of each word and\n",
        "a total word count. The class provides methods for adding a word to the\n",
        "vocabulary (``addWord``), adding all words in a sentence\n",
        "(``addSentence``) and trimming infrequently seen words (``trim``). More\n",
        "on trimming later."
      ]
    },
    {
      "cell_type": "markdown",
      "metadata": {
        "id": "38aiWJ1mdbAa"
      },
      "source": [
        "# **Vocabulary Class**"
      ]
    },
    {
      "cell_type": "code",
      "metadata": {
        "id": "-xVqfoSuUUKf"
      },
      "source": [
        "# Default word tokens\n",
        "PAD_token = 0  # Used for padding short sentences\n",
        "SOS_token = 1  # Start-of-sentence token\n",
        "EOS_token = 2  # End-of-sentence token\n",
        "\n",
        "class Voc:\n",
        "    def __init__(self):        \n",
        "        self.trimmed = False\n",
        "        self.word2index = {}\n",
        "        self.word2count = {}\n",
        "        self.index2word = {PAD_token: \"PAD\", SOS_token: \"SOS\", EOS_token: \"EOS\"}\n",
        "        self.num_words = 3  # Count SOS, EOS, PAD\n",
        "\n",
        "    def addSentence(self, sentence):\n",
        "        for word in sentence.split(' '):\n",
        "            self.addWord(word)\n",
        "\n",
        "    def addWord(self, word):\n",
        "        if word not in self.word2index:\n",
        "            self.word2index[word] = self.num_words\n",
        "            self.word2count[word] = 1\n",
        "            self.index2word[self.num_words] = word\n",
        "            self.num_words += 1\n",
        "        else:\n",
        "            self.word2count[word] += 1\n",
        "\n",
        "    # Remove words below a certain count threshold\n",
        "    def trim(self, min_count):\n",
        "        if self.trimmed:\n",
        "            return\n",
        "        self.trimmed = True\n",
        "\n",
        "        keep_words = []\n",
        "\n",
        "        for k, v in self.word2count.items():\n",
        "            if v >= min_count:\n",
        "                keep_words.append(k)\n",
        "\n",
        "        print('keep_words {} / {} = {:.4f}'.format(\n",
        "            len(keep_words), len(self.word2index), len(keep_words) / len(self.word2index)\n",
        "        ))\n",
        "\n",
        "        # Reinitialize dictionaries\n",
        "        self.word2index = {}\n",
        "        self.word2count = {}\n",
        "        self.index2word = {PAD_token: \"PAD\", SOS_token: \"SOS\", EOS_token: \"EOS\"}\n",
        "        self.num_words = 3 # Count default tokens\n",
        "\n",
        "        for word in keep_words:\n",
        "            self.addWord(word)"
      ],
      "execution_count": null,
      "outputs": []
    },
    {
      "cell_type": "markdown",
      "metadata": {
        "id": "yQJnhhKYUUKi"
      },
      "source": [
        "Now we can assemble our vocabulary and query/response sentence pairs.\n",
        "Before we are ready to use this data, we must perform some\n",
        "preprocessing.\n",
        "\n",
        "First, we must convert the Unicode strings to ASCII using\n",
        "``unicodeToAscii``. Next, we should convert all letters to lowercase and\n",
        "trim all non-letter characters except for basic punctuation\n",
        "(``normalizeString``). Finally, to aid in training convergence, we will\n",
        "filter out sentences with length greater than the ``MAX_LENGTH``\n",
        "threshold (``filterPairs``).\n"
      ]
    },
    {
      "cell_type": "markdown",
      "metadata": {
        "id": "FuPff2jpdfSl"
      },
      "source": [
        "# **Custom functions to preprocess Strings**"
      ]
    },
    {
      "cell_type": "code",
      "metadata": {
        "id": "T0c7IjGLUUKj"
      },
      "source": [
        "MAX_LENGTH = 10  # Maximum sentence length to consider\n",
        "\n",
        "def unicodeToAscii(s):\n",
        "    return ''.join(\n",
        "        c for c in unicodedata.normalize('NFD', s)\n",
        "        if unicodedata.category(c) != 'Mn'\n",
        "    )\n",
        "# Lowercase, trim, and remove non-letter characters\n",
        "def normalizeString(s):\n",
        "    s = unicodeToAscii(s.lower().strip())\n",
        "    s = re.sub(r\"([.!?])\", r\" \\1\", s)\n",
        "    s = re.sub(r\"[^a-zA-Z.!?]+\", r\" \", s)\n",
        "    s = re.sub(r\"\\s+\", r\" \", s).strip()\n",
        "    return s\n",
        "\n",
        "# Read query/response pairs and return a voc object\n",
        "def readVocs(datafile):\n",
        "    print(\"Reading lines...\")    \n",
        "    # Read the file and split into lines\n",
        "    lines = open(datafile, encoding='utf-8').\\\n",
        "        read().strip().split('\\n')\n",
        "    # Split every line into pairs and normalize\n",
        "    pairs = [[normalizeString(s) for s in l.split('\\t')] for l in lines]\n",
        "    voc = Voc()\n",
        "    return voc, pairs\n",
        "\n",
        "# Returns True iff both sentences in a pair 'p' are under the MAX_LENGTH threshold\n",
        "def filterPair(p):\n",
        "    # Input sequences need to preserve the last word for EOS token\n",
        "    return len(p[0].split(' ')) < MAX_LENGTH and len(p[1].split(' ')) < MAX_LENGTH\n",
        "\n",
        "# Filter pairs using filterPair condition\n",
        "def filterPairs(pairs):\n",
        "    return [pair for pair in pairs if filterPair(pair)]\n",
        "\n",
        "# Using the functions defined above, return a populated voc object and pairs list\n",
        "def loadPrepareData(datafile):\n",
        "    print(\"Start preparing training data ...\")\n",
        "    voc, pairs = readVocs(datafile)\n",
        "    print(\"Read {!s} sentence pairs\".format(len(pairs)))\n",
        "    pairs = filterPairs(pairs)\n",
        "    print(\"Trimmed to {!s} sentence pairs\".format(len(pairs)))\n",
        "    print(\"Counting words...\")\n",
        "    for pair in pairs:\n",
        "        voc.addSentence(pair[0])\n",
        "        voc.addSentence(pair[1])\n",
        "    print(\"Counted words:\", voc.num_words)\n",
        "    return voc, pairs\n",
        "\n",
        "\n"
      ],
      "execution_count": null,
      "outputs": []
    },
    {
      "cell_type": "markdown",
      "metadata": {
        "id": "N26s_MXKdqfV"
      },
      "source": [
        "# **Reading chat file**\n",
        "Now we read chat dataset file and pass it to preprocessingdata function to preprocess it and mould it into pairs of question answer sentences."
      ]
    },
    {
      "cell_type": "code",
      "metadata": {
        "id": "KJ8iJn6sd2rG",
        "colab": {
          "base_uri": "https://localhost:8080/"
        },
        "outputId": "fbf191e8-7ef2-4673-aef8-c5f70020679a"
      },
      "source": [
        "# Load/Assemble voc and pairs\n",
        "\n",
        "datafile = 'chatDataset.txt'\n",
        "voc, pairs = loadPrepareData(datafile)\n",
        "# Print some pairs to validate\n",
        "print(\"\\npairs:\")\n",
        "for pair in pairs[:10]:\n",
        "    print(pair)"
      ],
      "execution_count": null,
      "outputs": [
        {
          "output_type": "stream",
          "text": [
            "Start preparing training data ...\n",
            "Reading lines...\n",
            "Read 221282 sentence pairs\n",
            "Trimmed to 64271 sentence pairs\n",
            "Counting words...\n",
            "Counted words: 18008\n",
            "\n",
            "pairs:\n",
            "['there .', 'where ?']\n",
            "['you have my word . as a gentleman', 'you re sweet .']\n",
            "['hi .', 'looks like things worked out tonight huh ?']\n",
            "['you know chastity ?', 'i believe we share an art instructor']\n",
            "['have fun tonight ?', 'tons']\n",
            "['well no . . .', 'then that s all you had to say .']\n",
            "['then that s all you had to say .', 'but']\n",
            "['but', 'you always been this selfish ?']\n",
            "['do you listen to this crap ?', 'what crap ?']\n",
            "['what good stuff ?', 'the real you .']\n"
          ],
          "name": "stdout"
        }
      ]
    },
    {
      "cell_type": "markdown",
      "metadata": {
        "id": "haHlxJgqUUKo"
      },
      "source": [
        "Another tactic that is beneficial to achieving faster convergence during\n",
        "training is trimming rarely used words out of our vocabulary. Decreasing\n",
        "the feature space will also soften the difficulty of the function that\n",
        "the model must learn to approximate. We will do this as a two-step\n",
        "process:\n",
        "\n",
        "1) Trim words used under ``MIN_COUNT`` threshold using the ``voc.trim``\n",
        "   function.\n",
        "\n",
        "# **2) Filter out pairs with trimmed words.**"
      ]
    },
    {
      "cell_type": "code",
      "metadata": {
        "id": "HLJUsY8SUUKp",
        "colab": {
          "base_uri": "https://localhost:8080/"
        },
        "outputId": "913a12cc-f52c-4c0d-9b1d-3fdbefad6ff0"
      },
      "source": [
        "#input_variable\n",
        "\n",
        "MIN_COUNT = 3    # Minimum word count threshold for trimming\n",
        "\n",
        "def trimRareWords(voc, pairs, MIN_COUNT):\n",
        "    # Trim words used under the MIN_COUNT from the voc\n",
        "    voc.trim(MIN_COUNT)\n",
        "    # Filter out pairs with trimmed words\n",
        "    keep_pairs = []\n",
        "    for pair in pairs:\n",
        "        input_sentence = pair[0]\n",
        "        output_sentence = pair[1]\n",
        "        keep_input = True\n",
        "        keep_output = True\n",
        "        # Check input sentence\n",
        "        for word in input_sentence.split(' '):\n",
        "            if word not in voc.word2index:\n",
        "                keep_input = False\n",
        "                break\n",
        "        # Check output sentence\n",
        "        for word in output_sentence.split(' '):\n",
        "            if word not in voc.word2index:\n",
        "                keep_output = False\n",
        "                break\n",
        "\n",
        "        # Only keep pairs that do not contain trimmed word(s) in their input or output sentence\n",
        "        if keep_input and keep_output:\n",
        "            keep_pairs.append(pair)\n",
        "\n",
        "    print(\"Trimmed from {} pairs to {}, {:.4f} of total\".format(len(pairs), len(keep_pairs), len(keep_pairs) / len(pairs)))\n",
        "    return keep_pairs\n",
        "\n",
        "\n",
        "# Trim voc and pairs\n",
        "pairs = trimRareWords(voc, pairs, MIN_COUNT)"
      ],
      "execution_count": null,
      "outputs": [
        {
          "output_type": "stream",
          "text": [
            "keep_words 7823 / 18005 = 0.4345\n",
            "Trimmed from 64271 pairs to 53165, 0.8272 of total\n"
          ],
          "name": "stdout"
        }
      ]
    },
    {
      "cell_type": "markdown",
      "metadata": {
        "id": "IMiPPAPCz7Bs"
      },
      "source": [
        "# **Splitting testing and training pairs**\n",
        "We split first 45000 pairs as training data and remaining pairs as testing data"
      ]
    },
    {
      "cell_type": "code",
      "metadata": {
        "id": "Cpymeeyjz_Ks"
      },
      "source": [
        "#testing pairs\n",
        "testpairs = pairs[45000:]\n",
        "\n",
        "#Training pairs\n",
        "pairs  = pairs[:45000]\n"
      ],
      "execution_count": null,
      "outputs": []
    },
    {
      "cell_type": "markdown",
      "metadata": {
        "id": "wsvxx65kUUKs"
      },
      "source": [
        "# **Prepare Data for Models**\n",
        "-----------------------\n",
        "If we simply convert our English sentences to tensors by converting\n",
        "words to their indexes(\\ ``indexesFromSentence``) and zero-pad, our\n",
        "tensor would have shape *(batch_size, max_length)* and indexing the\n",
        "first dimension would return a full sequence across all time-steps.\n",
        "However, we need to be able to index our batch along time, and across\n",
        "all sequences in the batch. Therefore, we transpose our input batch\n",
        "shape to *(max_length, batch_size)*, so that indexing across the first\n",
        "dimension returns a time step across all sentences in the batch. We\n",
        "handle this transpose implicitly in the ``zeroPadding`` function.\n",
        "\n",
        "\n",
        "![title](img/seq2seq_batches.png)\n",
        "\n",
        "\n",
        "The ``inputVar`` function handles the process of converting sentences to\n",
        "tensor, ultimately creating a correctly shaped zero-padded tensor. It\n",
        "also returns a tensor of ``lengths`` for each of the sequences in the\n",
        "batch which will be passed to our decoder later.\n",
        "\n",
        "The ``outputVar`` function performs a similar function to ``inputVar``,\n",
        "but instead of returning a ``lengths`` tensor, it returns a binary mask\n",
        "tensor and a maximum target sentence length. The binary mask tensor has\n",
        "the same shape as the output target tensor, but every element that is a\n",
        "*PAD_token* is 0 and all others are 1.\n",
        "\n",
        "``batch2TrainData`` simply takes a bunch of pairs and returns the input\n",
        "and target tensors using the aforementioned functions."
      ]
    },
    {
      "cell_type": "markdown",
      "metadata": {
        "id": "n7HNHHqIepTv"
      },
      "source": [
        "# **Generating batches**"
      ]
    },
    {
      "cell_type": "code",
      "metadata": {
        "id": "zjbTwFVxUUKt"
      },
      "source": [
        "def indexesFromSentence(voc, sentence):\n",
        "    return [voc.word2index[word] for word in sentence.split(' ')] + [EOS_token]\n",
        "\n",
        "\n",
        "def zeroPadding(l, fillvalue=PAD_token):\n",
        "    return list(itertools.zip_longest(*l, fillvalue=fillvalue))\n",
        "\n",
        "def binaryMatrix(l, value=PAD_token):\n",
        "    m = []\n",
        "    for i, seq in enumerate(l):\n",
        "        m.append([])\n",
        "        for token in seq:\n",
        "            if token == PAD_token:\n",
        "                m[i].append(0)\n",
        "            else:\n",
        "                m[i].append(1)\n",
        "    return m\n",
        "\n",
        "# Returns padded input sequence tensor and lengths\n",
        "def inputVar(l, voc):\n",
        "    indexes_batch = [indexesFromSentence(voc, sentence) for sentence in l]\n",
        "    lengths = torch.tensor([len(indexes) for indexes in indexes_batch])\n",
        "    padList = zeroPadding(indexes_batch)\n",
        "    padVar = torch.LongTensor(padList)\n",
        "    return padVar, lengths\n",
        "\n",
        "\n",
        "def outputVar(l, voc):\n",
        "    indexes_batch = [indexesFromSentence(voc, sentence) for sentence in l]\n",
        "    max_target_len = max([len(indexes) for indexes in indexes_batch])\n",
        "    padList = zeroPadding(indexes_batch)\n",
        "    mask = binaryMatrix(padList)\n",
        "    mask = torch.ByteTensor(mask)\n",
        "    padVar = torch.LongTensor(padList)\n",
        "    return padVar, mask, max_target_len\n",
        "\n",
        "def batch2TrainData(voc, pair_batch):\n",
        "    pair_batch.sort(key=lambda x: len(x[0].split(\" \")), reverse=True)\n",
        "    input_batch, output_batch = [], []\n",
        "    for pair in pair_batch:\n",
        "        input_batch.append(pair[0])\n",
        "        output_batch.append(pair[1])\n",
        "    inp, lengths = inputVar(input_batch, voc)\n",
        "    output, mask, max_target_len = outputVar(output_batch, voc)\n",
        "    return inp, lengths, output, mask, max_target_len\n",
        "\n",
        "\n",
        "\n",
        "small_batch_size = 5\n",
        "batches = batch2TrainData(voc, [random.choice(pairs) for _ in range(small_batch_size)])\n",
        "input_variable, lengths, target_variable, mask, max_target_len = batches\n"
      ],
      "execution_count": null,
      "outputs": []
    },
    {
      "cell_type": "markdown",
      "metadata": {
        "id": "MJanK6JjgYRX"
      },
      "source": [
        "As LSTM takes time series data so we need to convert our pairs of sentences into time series."
      ]
    },
    {
      "cell_type": "code",
      "metadata": {
        "id": "XGMtPVk78Jks",
        "colab": {
          "base_uri": "https://localhost:8080/"
        },
        "outputId": "3299dd19-eb73-492a-dd2d-bd0260a6f256"
      },
      "source": [
        "pair_batch = pairs[:5]\n",
        "print(pair_batch)\n",
        "pair_batch.sort(key=lambda x: len(x[0].split(\" \")), reverse=True)\n",
        "print(pair_batch)\n",
        "print(target_variable)\n",
        "print(mask)\n",
        "print(max_target_len)\n"
      ],
      "execution_count": null,
      "outputs": [
        {
          "output_type": "stream",
          "text": [
            "[['there .', 'where ?'], ['you have my word . as a gentleman', 'you re sweet .'], ['hi .', 'looks like things worked out tonight huh ?'], ['have fun tonight ?', 'tons'], ['well no . . .', 'then that s all you had to say .']]\n",
            "[['you have my word . as a gentleman', 'you re sweet .'], ['well no . . .', 'then that s all you had to say .'], ['have fun tonight ?', 'tons'], ['there .', 'where ?'], ['hi .', 'looks like things worked out tonight huh ?']]\n",
            "tensor([[  64,   33,  122, 2746,  239],\n",
            "        [   7,    4,   45,    4,  167],\n",
            "        [ 153,    4,  180,    2,    4],\n",
            "        [2911,    4,   37,    0,  886],\n",
            "        [   4,    2,   98,    0,  834],\n",
            "        [   2,    0,  682,    0,    4],\n",
            "        [   0,    0,    4,    0,    2],\n",
            "        [   0,    0, 6863,    0,    0],\n",
            "        [   0,    0,    4,    0,    0],\n",
            "        [   0,    0,    2,    0,    0]])\n",
            "tensor([[1, 1, 1, 1, 1],\n",
            "        [1, 1, 1, 1, 1],\n",
            "        [1, 1, 1, 1, 1],\n",
            "        [1, 1, 1, 0, 1],\n",
            "        [1, 1, 1, 0, 1],\n",
            "        [1, 0, 1, 0, 1],\n",
            "        [0, 0, 1, 0, 1],\n",
            "        [0, 0, 1, 0, 0],\n",
            "        [0, 0, 1, 0, 0],\n",
            "        [0, 0, 1, 0, 0]], dtype=torch.uint8)\n",
            "10\n"
          ],
          "name": "stdout"
        }
      ]
    },
    {
      "cell_type": "markdown",
      "metadata": {
        "id": "0Arb62b3rYDX"
      },
      "source": [
        "# **Encoder**\n",
        "Now we declare our encoder which is consist of bidirectional LSTM units.It is vital to declare bidirectional LSTM as their results are better than unidirectional LSTM in some NLP problems.What it done is instead of learning embeddings of previous words it also considers the embeddings or features of next word suitable to predict target variable."
      ]
    },
    {
      "cell_type": "code",
      "metadata": {
        "id": "sosjNS7NUUKz"
      },
      "source": [
        "class EncoderRNN(nn.Module):\n",
        "    def __init__(self, hidden_size, embedding, n_layers=1, dropout=0):\n",
        "        super(EncoderRNN, self).__init__()\n",
        "        self.n_layers = n_layers\n",
        "        self.hidden_size = hidden_size\n",
        "        self.embedding = embedding\n",
        "        self.gru = nn.LSTM(hidden_size, hidden_size, n_layers,\n",
        "                          dropout=(0 if n_layers == 1 else dropout), bidirectional=True)\n",
        "\n",
        "    def forward(self, input_seq, input_lengths, hidden=None):\n",
        "        \n",
        "        embedded = self.embedding(input_seq)\n",
        "        \n",
        "        packed = nn.utils.rnn.pack_padded_sequence(embedded, input_lengths.cpu())\n",
        "        packed = nn.utils.rnn.pack_padded_sequence(embedded, input_lengths.cpu())\n",
        "        \n",
        "        outputs, hidden = self.gru(packed, hidden)\n",
        "        \n",
        "        outputs, _ = nn.utils.rnn.pad_packed_sequence(outputs)\n",
        "        \n",
        "        outputs = outputs[:, :, :self.hidden_size] + outputs[:, : ,self.hidden_size:]\n",
        "        \n",
        "        return outputs, hidden\n",
        "    def init_hidden(self):\n",
        "        \n",
        "        return (torch.zeros(self.num_layers, self.batch_size, self.hidden_dim),\n",
        "                torch.zeros(self.num_layers, self.batch_size, self.hidden_dim))"
      ],
      "execution_count": null,
      "outputs": []
    },
    {
      "cell_type": "markdown",
      "metadata": {
        "id": "3IMo5H_JUUK1"
      },
      "source": [
        "Decoder\n",
        "~~~~~~~\n",
        "\n",
        "The decoder RNN generates the response sentence in a token-by-token\n",
        "fashion. It uses the encoder’s context vectors, and internal hidden\n",
        "states to generate the next word in the sequence. It continues\n",
        "generating words until it outputs an *EOS_token*, representing the end\n",
        "of the sentence. A common problem with a vanilla seq2seq decoder is that\n",
        "if we rely soley on the context vector to encode the entire input\n",
        "sequence’s meaning, it is likely that we will have information loss.\n",
        "This is especially the case when dealing with long input sequences,\n",
        "greatly limiting the capability of our decoder.\n",
        "\n",
        "To combat this, `Bahdanau et al. <https://arxiv.org/abs/1409.0473>`__\n",
        "created an “attention mechanism” that allows the decoder to pay\n",
        "attention to certain parts of the input sequence, rather than using the\n",
        "entire fixed context at every step.\n",
        "\n",
        "At a high level, attention is calculated using the decoder’s current\n",
        "hidden state and the encoder’s outputs. The output attention weights\n",
        "have the same shape as the input sequence, allowing us to multiply them\n",
        "by the encoder outputs, giving us a weighted sum which indicates the\n",
        "parts of encoder output to pay attention to. `Sean\n",
        "Robertson’s <https://github.com/spro>`__ figure describes this very\n",
        "well:\n",
        "![title](img/attn2.png)"
      ]
    },
    {
      "cell_type": "markdown",
      "metadata": {
        "id": "3SnxT22mBa6x"
      },
      "source": [
        "# **attention weights**"
      ]
    },
    {
      "cell_type": "code",
      "metadata": {
        "id": "MhlXIwPgUUK2"
      },
      "source": [
        "class Attn(nn.Module):\n",
        "    def __init__(self, method, hidden_size):\n",
        "        super(Attn, self).__init__()\n",
        "        self.method = method\n",
        "        if self.method not in ['dot', 'general', 'concat']:\n",
        "            raise ValueError(self.method, \"is not an appropriate attention method.\")\n",
        "        self.hidden_size = hidden_size\n",
        "        \n",
        "    def dot_score(self, hidden, encoder_output):\n",
        "        return torch.sum(hidden * encoder_output, dim=2)\n",
        "\n",
        "    def forward(self, hidden, encoder_outputs):\n",
        "        \n",
        "        attn_energies = self.dot_score(hidden, encoder_outputs)\n",
        "        attn_energies = attn_energies.t()\n",
        "        return F.softmax(attn_energies, dim=1).unsqueeze(1)      "
      ],
      "execution_count": null,
      "outputs": []
    },
    {
      "cell_type": "markdown",
      "metadata": {
        "id": "D0UfrrIpUUK4"
      },
      "source": [
        "Now that we have defined our attention submodule, we can implement the\n",
        "actual decoder model. For the decoder, we will manually feed our batch\n",
        "one time step at a time. This means that our embedded word tensor and\n",
        "GRU output will both have shape *(1, batch_size, hidden_size)*.\n",
        "\n",
        "**Computation Graph:**\n",
        "\n",
        "   1) Get embedding of current input word.\n",
        "   2) Forward through unidirectional GRU.\n",
        "   3) Calculate attention weights from the current GRU output from (2).\n",
        "   4) Multiply attention weights to encoder outputs to get new \"weighted sum\" context vector.\n",
        "   5) Concatenate weighted context vector and GRU output using Luong eq. 5.\n",
        "   6) Predict next word using Luong eq. 6 (without softmax).\n",
        "   7) Return output and final hidden state.\n",
        "\n",
        "**Inputs:**\n",
        "\n",
        "-  ``input_step``: one time step (one word) of input sequence batch;\n",
        "   shape=\\ *(1, batch_size)*\n",
        "-  ``last_hidden``: final hidden layer of GRU; shape=\\ *(n_layers x\n",
        "   num_directions, batch_size, hidden_size)*\n",
        "-  ``encoder_outputs``: encoder model’s output; shape=\\ *(max_length,\n",
        "   batch_size, hidden_size)*\n",
        "\n",
        "**Outputs:**\n",
        "\n",
        "-  ``output``: softmax normalized tensor giving probabilities of each\n",
        "   word being the correct next word in the decoded sequence;\n",
        "   shape=\\ *(batch_size, voc.num_words)*\n",
        "-  ``hidden``: final hidden state of GRU; shape=\\ *(n_layers x\n",
        "   num_directions, batch_size, hidden_size)*"
      ]
    },
    {
      "cell_type": "markdown",
      "metadata": {
        "id": "cmbRfBUgq-dn"
      },
      "source": [
        "# **Decoder**"
      ]
    },
    {
      "cell_type": "code",
      "metadata": {
        "id": "6uvriR9lUUK5"
      },
      "source": [
        "class LuongAttnDecoderRNN(nn.Module):\n",
        "    def __init__(self, attn_model, embedding, hidden_size, output_size, n_layers=1, dropout=0.1):\n",
        "        super(LuongAttnDecoderRNN, self).__init__()\n",
        "\n",
        "        \n",
        "        self.attn_model = attn_model\n",
        "        self.hidden_size = hidden_size\n",
        "        self.output_size = output_size\n",
        "        self.n_layers = n_layers\n",
        "        self.dropout = dropout\n",
        "\n",
        "       \n",
        "        self.embedding = embedding\n",
        "        self.embedding_dropout = nn.Dropout(dropout)\n",
        "        self.gru = nn.LSTM(hidden_size, hidden_size, n_layers, dropout=(0 if n_layers == 1 else dropout))#, bidirectional=True)\n",
        "        self.concat = nn.Linear(hidden_size * 2, hidden_size)\n",
        "        self.out = nn.Linear(hidden_size, output_size)\n",
        "        self.attn = Attn(attn_model, hidden_size)\n",
        "    \n",
        "    def forward(self, input_step, last_hidden, encoder_outputs):\n",
        "        embedded = self.embedding(input_step)\n",
        "        embedded = self.embedding_dropout(embedded)\n",
        "        rnn_output, hidden = self.gru(embedded, last_hidden)\n",
        "        attn_weights = self.attn(rnn_output, encoder_outputs)\n",
        "        context = attn_weights.bmm(encoder_outputs.transpose(0, 1))\n",
        "        rnn_output = rnn_output.squeeze(0)\n",
        "        context = context.squeeze(1)\n",
        "        concat_input = torch.cat((rnn_output, context), 1)\n",
        "        concat_output = torch.tanh(self.concat(concat_input))\n",
        "        output = self.out(concat_output)\n",
        "        output = F.softmax(output, dim=1)\n",
        "        return output, hidden"
      ],
      "execution_count": null,
      "outputs": []
    },
    {
      "cell_type": "markdown",
      "metadata": {
        "id": "qEOP18l8UUK8"
      },
      "source": [
        "# Define Training Procedure\n",
        "-------------------------\n",
        "\n",
        "Masked loss\n",
        "\n",
        "\n",
        "Since we are dealing with batches of padded sequences, we cannot simply\n",
        "consider all elements of the tensor when calculating loss. We define\n",
        "``maskNLLLoss`` to calculate our loss based on our decoder’s output\n",
        "tensor, the target tensor, and a binary mask tensor describing the\n",
        "padding of the target tensor. This loss function calculates the average\n",
        "negative log likelihood of the elements that correspond to a *1* in the\n",
        "mask tensor.\n",
        "\n",
        "\n"
      ]
    },
    {
      "cell_type": "code",
      "metadata": {
        "id": "dMKwBNIkUUK9"
      },
      "source": [
        "def maskNLLLoss(inp, target, mask):\n",
        "    nTotal = mask.sum()\n",
        "    crossEntropy = -torch.log(torch.gather(inp, 1, target.view(-1, 1)).squeeze(1))\n",
        "    loss = crossEntropy.masked_select(mask).mean()\n",
        "    loss = loss.to(device)\n",
        "    return loss, nTotal.item()"
      ],
      "execution_count": null,
      "outputs": []
    },
    {
      "cell_type": "markdown",
      "metadata": {
        "id": "p2igLJl7UUK_"
      },
      "source": [
        "Single training iteration\n",
        "~~~~~~~~~~~~~~~~~~~~~~~~~\n",
        "\n",
        "The ``train`` function contains the algorithm for a single training\n",
        "iteration (a single batch of inputs).\n",
        "\n",
        "We will use a couple of clever tricks to aid in convergence:\n",
        "\n",
        "-  The first trick is using **teacher forcing**. This means that at some\n",
        "   probability, set by ``teacher_forcing_ratio``, we use the current\n",
        "   target word as the decoder’s next input rather than using the\n",
        "   decoder’s current guess. This technique acts as training wheels for\n",
        "   the decoder, aiding in more efficient training. However, teacher\n",
        "   forcing can lead to model instability during inference, as the\n",
        "   decoder may not have a sufficient chance to truly craft its own\n",
        "   output sequences during training. Thus, we must be mindful of how we\n",
        "   are setting the ``teacher_forcing_ratio``, and not be fooled by fast\n",
        "   convergence.\n",
        "\n",
        "-  The second trick that we implement is **gradient clipping**. This is\n",
        "   a commonly used technique for countering the “exploding gradient”\n",
        "   problem. In essence, by clipping or thresholding gradients to a\n",
        "   maximum value, we prevent the gradients from growing exponentially\n",
        "   and either overflow (NaN), or overshoot steep cliffs in the cost\n",
        "   function.\n",
        "\n",
        "\n",
        "\n",
        "**Sequence of Operations:**\n",
        "\n",
        "   1) Forward pass entire input batch through encoder.\n",
        "   2) Initialize decoder inputs as SOS_token, and hidden state as the encoder's final hidden state.\n",
        "   3) Forward input batch sequence through decoder one time step at a time.\n",
        "   4) If teacher forcing: set next decoder input as the current target; else: set next decoder input as current decoder output.\n",
        "   5) Calculate and accumulate loss.\n",
        "   6) Perform backpropagation.\n",
        "   7) Clip gradients.\n",
        "   8) Update encoder and decoder model parameters.\n",
        "\n"
      ]
    },
    {
      "cell_type": "markdown",
      "metadata": {
        "id": "_Q7ZQQO_q5Y9"
      },
      "source": [
        "# **Train Function**"
      ]
    },
    {
      "cell_type": "code",
      "metadata": {
        "id": "PUbyiWguUULA"
      },
      "source": [
        "def train(input_variable, lengths, target_variable, mask, max_target_len, encoder, decoder, embedding,\n",
        "          encoder_optimizer, decoder_optimizer, batch_size, clip, max_length=MAX_LENGTH):\n",
        "\n",
        "    \n",
        "    encoder_optimizer.zero_grad()\n",
        "    decoder_optimizer.zero_grad()\n",
        "\n",
        "  \n",
        "    input_variable = input_variable.to(device)\n",
        "    lengths = lengths.to(device)\n",
        "    target_variable = target_variable.to(device)\n",
        "    mask = mask.to(device)\n",
        "\n",
        "    \n",
        "    loss = 0\n",
        "    print_losses = []\n",
        "    n_totals = 0\n",
        "\n",
        "    \n",
        "    encoder_outputs, encoder_hidden = encoder(input_variable, lengths)\n",
        "\n",
        "    \n",
        "    decoder_input = torch.LongTensor([[SOS_token for _ in range(batch_size)]])\n",
        "    decoder_input = decoder_input.to(device)\n",
        "\n",
        "    \n",
        "    decoder_hidden = encoder_hidden[:decoder.n_layers]\n",
        "    use_teacher_forcing = True if random.random() < teacher_forcing_ratio else False\n",
        "\n",
        "    \n",
        "    if use_teacher_forcing:\n",
        "        for t in range(max_target_len):\n",
        "            decoder_output, decoder_hidden = decoder(\n",
        "                decoder_input, decoder_hidden, encoder_outputs\n",
        "            )\n",
        "            \n",
        "            decoder_input = target_variable[t].view(1, -1)\n",
        "            \n",
        "            mask_loss, nTotal = maskNLLLoss(decoder_output, target_variable[t], mask[t])\n",
        "            loss += mask_loss\n",
        "            print_losses.append(mask_loss.item() * nTotal)\n",
        "            n_totals += nTotal\n",
        "    else:\n",
        "        for t in range(max_target_len):\n",
        "            decoder_output, decoder_hidden = decoder(\n",
        "                decoder_input, decoder_hidden, encoder_outputs\n",
        "            )\n",
        "            \n",
        "            _, topi = decoder_output.topk(1)\n",
        "            decoder_input = torch.LongTensor([[topi[i][0] for i in range(batch_size)]])\n",
        "            decoder_input = decoder_input.to(device)\n",
        "            \n",
        "            mask_loss, nTotal = maskNLLLoss(decoder_output, target_variable[t], mask[t])\n",
        "            loss += mask_loss\n",
        "            print_losses.append(mask_loss.item() * nTotal)\n",
        "            n_totals += nTotal\n",
        "\n",
        "    \n",
        "    loss.backward()\n",
        "\n",
        "    \n",
        "    _ = nn.utils.clip_grad_norm_(encoder.parameters(), clip)\n",
        "    _ = nn.utils.clip_grad_norm_(decoder.parameters(), clip)\n",
        "\n",
        "    \n",
        "    encoder_optimizer.step()\n",
        "    decoder_optimizer.step()\n",
        "\n",
        "    return sum(print_losses) / n_totals"
      ],
      "execution_count": null,
      "outputs": []
    },
    {
      "cell_type": "markdown",
      "metadata": {
        "id": "02kHrXWgUULG"
      },
      "source": [
        "# **Training iterations**\n",
        "~~~~~~~~~~~~~~~~~~~\n",
        "\n",
        "It is finally time to tie the full training procedure together with the\n",
        "data. The ``trainIters`` function is responsible for running\n",
        "``n_iterations`` of training given the passed models, optimizers, data,\n",
        "etc. This function is quite self explanatory, as we have done the heavy\n",
        "lifting with the ``train`` function.\n",
        "\n",
        "One thing to note is that when we save our model, we save a tarball\n",
        "containing the encoder and decoder state_dicts (parameters), the\n",
        "optimizers’ state_dicts, the loss, the iteration, etc. Saving the model\n",
        "in this way will give us the ultimate flexibility with the checkpoint.\n",
        "After loading a checkpoint, we will be able to use the model parameters\n",
        "to run inference, or we can continue training right where we left off.\n",
        "\n",
        "\n"
      ]
    },
    {
      "cell_type": "code",
      "metadata": {
        "id": "mIVgVHbuUULH"
      },
      "source": [
        "def trainIters(model_name, voc, pairs, encoder, decoder, encoder_optimizer, decoder_optimizer, embedding, encoder_n_layers, decoder_n_layers, save_dir, n_iteration, batch_size, print_every, save_every, clip, corpus_name, loadFilename):\n",
        "\n",
        "    \n",
        "    training_batches = [batch2TrainData(voc, [random.choice(pairs) for _ in range(batch_size)])\n",
        "                      for _ in range(n_iteration)]\n",
        "    \n",
        "    \n",
        "    print('Initializing ...')\n",
        "    \n",
        "    start_iteration = 1\n",
        "    print_loss = 0\n",
        "    losslist = []\n",
        "    if loadFilename:\n",
        "        start_iteration = checkpoint['iteration'] + 1\n",
        "\n",
        "    \n",
        "    print(\"Training...\")\n",
        "    for iteration in range(start_iteration, n_iteration + 1):\n",
        "        training_batch = training_batches[iteration - 1]\n",
        "        \n",
        "        input_variable, lengths, target_variable, mask, max_target_len = training_batch\n",
        "\n",
        "        \n",
        "        loss = train(input_variable, lengths, target_variable, mask, max_target_len, encoder,\n",
        "                     decoder, embedding, encoder_optimizer, decoder_optimizer, batch_size, clip)\n",
        "        print_loss += loss\n",
        "\n",
        "        # Print progress\n",
        "        if iteration % print_every == 0:\n",
        "            print_loss_avg = print_loss / print_every\n",
        "            print(\"Iteration: {}; Percent complete: {:.1f}%; Average loss: {:.4f}\".format(iteration, iteration / n_iteration * 100, print_loss_avg))\n",
        "            print_loss = 0\n",
        "            losslist.append(print_loss_avg)\n",
        "\n",
        "        # Save checkpoint\n",
        "        if (iteration % save_every == 0):\n",
        "            directory = os.path.join(save_dir, model_name, corpus_name, '{}-{}_{}'.format(encoder_n_layers, decoder_n_layers, hidden_size))\n",
        "            if not os.path.exists(directory):\n",
        "                os.makedirs(directory)\n",
        "            torch.save({\n",
        "                'iteration': iteration,\n",
        "                'en': encoder.state_dict(),\n",
        "                'de': decoder.state_dict(),\n",
        "                'en_opt': encoder_optimizer.state_dict(),\n",
        "                'de_opt': decoder_optimizer.state_dict(),\n",
        "                'loss': loss,\n",
        "                'voc_dict': voc.__dict__,\n",
        "                'embedding': embedding.state_dict()\n",
        "            }, os.path.join(directory, '{}_{}.tar'.format(iteration, 'checkpoint')))\n",
        "    return losslist"
      ],
      "execution_count": null,
      "outputs": []
    },
    {
      "cell_type": "markdown",
      "metadata": {
        "id": "wxZdN1t5UULK"
      },
      "source": [
        "# **Define Evaluation**\n",
        "-----------------\n",
        "\n",
        "After training a model, we want to be able to talk to the bot ourselves.\n",
        "First, we must define how we want the model to decode the encoded input.\n",
        "\n",
        "Greedy decoding\n",
        "~~~~~~~~~~~~~~~\n",
        "\n",
        "Greedy decoding is the decoding method that we use during training when\n",
        "we are **NOT** using teacher forcing. In other words, for each time\n",
        "step, we simply choose the word from ``decoder_output`` with the highest\n",
        "softmax value. This decoding method is optimal on a single time-step\n",
        "level.\n",
        "\n",
        "To facilite the greedy decoding operation, we define a\n",
        "``GreedySearchDecoder`` class. When run, an object of this class takes\n",
        "an input sequence (``input_seq``) of shape *(input_seq length, 1)*, a\n",
        "scalar input length (``input_length``) tensor, and a ``max_length`` to\n",
        "bound the response sentence length. The input sentence is evaluated\n",
        "using the following computational graph:\n",
        "\n",
        "**Computation Graph:**\n",
        "\n",
        "   1) Forward input through encoder model.\n",
        "   2) Prepare encoder's final hidden layer to be first hidden input to the decoder.\n",
        "   3) Initialize decoder's first input as SOS_token.\n",
        "   4) Initialize tensors to append decoded words to.\n",
        "   5) Iteratively decode one word token at a time:\n",
        "       a) Forward pass through decoder.\n",
        "       b) Obtain most likely word token and its softmax score.\n",
        "       c) Record token and score.\n",
        "       d) Prepare current token to be next decoder input.\n",
        "   6) Return collections of word tokens and scores.\n",
        "\n",
        "\n"
      ]
    },
    {
      "cell_type": "markdown",
      "metadata": {
        "id": "9r1Kg8JYUULR"
      },
      "source": [
        "# **Evaluate my text**\n",
        "----\n",
        "\n",
        "Now that we have our decoding method defined, we can write functions for\n",
        "evaluating a string input sentence. The ``evaluate`` function manages\n",
        "the low-level process of handling the input sentence. We first format\n",
        "the sentence as an input batch of word indexes with *batch_size==1*. We\n",
        "do this by converting the words of the sentence to their corresponding\n",
        "indexes, and transposing the dimensions to prepare the tensor for our\n",
        "models. We also create a ``lengths`` tensor which contains the length of\n",
        "our input sentence. In this case, ``lengths`` is scalar because we are\n",
        "only evaluating one sentence at a time (batch_size==1). Next, we obtain\n",
        "the decoded response sentence tensor using our ``GreedySearchDecoder``\n",
        "object (``searcher``). Finally, we convert the response’s indexes to\n",
        "words and return the list of decoded words.\n",
        "\n",
        "``evaluateInput`` acts as the user interface for our chatbot. When\n",
        "called, an input text field will spawn in which we can enter our query\n",
        "sentence. After typing our input sentence and pressing *Enter*, our text\n",
        "is normalized in the same way as our training data, and is ultimately\n",
        "fed to the ``evaluate`` function to obtain a decoded output sentence. We\n",
        "loop this process, so we can keep chatting with our bot until we enter\n",
        "either “q” or “quit”.\n",
        "\n",
        "Finally, if a sentence is entered that contains a word that is not in\n",
        "the vocabulary, we handle this gracefully by printing an error message\n",
        "and prompting the user to enter another sentence.\n",
        "\n",
        "\n"
      ]
    },
    {
      "cell_type": "code",
      "metadata": {
        "id": "V2xV9PGnUULT"
      },
      "source": [
        "def evaluate(encoder, decoder, searcher, voc, sentence, max_length=MAX_LENGTH):\n",
        "  \n",
        "    indexes_batch = [indexesFromSentence(voc, sentence)]\n",
        "    \n",
        "    lengths = torch.tensor([len(indexes) for indexes in indexes_batch])\n",
        "    \n",
        "    input_batch = torch.LongTensor(indexes_batch).transpose(0, 1)\n",
        "    \n",
        "    input_batch = input_batch.to(device)\n",
        "    lengths = lengths.to(device)\n",
        "    \n",
        "    tokens, scores = searcher(input_batch, lengths, max_length)\n",
        "    \n",
        "    decoded_words = [voc.index2word[token.item()] for token in tokens]\n",
        "    return decoded_words\n",
        "\n",
        "\n",
        "def evaluateInput(encoder, decoder, searcher, voc):\n",
        "    input_sentence = ''\n",
        "    while(1):\n",
        "        try:\n",
        "            \n",
        "            input_sentence = input('> ')\n",
        "            \n",
        "            if input_sentence == 'q' or input_sentence == 'quit': break\n",
        "            \n",
        "            input_sentence = normalizeString(input_sentence)\n",
        "            \n",
        "            output_words = evaluate(encoder, decoder, searcher, voc, input_sentence)\n",
        "            \n",
        "            output_words[:] = [x for x in output_words if not (x == 'EOS' or x == 'PAD')]\n",
        "            print('Bot:', ' '.join(output_words))\n",
        "\n",
        "        except KeyError:\n",
        "            print(\"Error: Encountered unknown word.\")      "
      ],
      "execution_count": null,
      "outputs": []
    },
    {
      "cell_type": "markdown",
      "metadata": {
        "id": "KS3BsMC4eh11"
      },
      "source": [
        "# **Beam Decoder**"
      ]
    },
    {
      "cell_type": "code",
      "metadata": {
        "id": "pSpOTEtEeXP2"
      },
      "source": [
        "class Sentence:\n",
        "    def __init__(self, decoder_hidden, last_idx=SOS_token, sentence_idxes=[], sentence_scores=[]):\n",
        "        if(len(sentence_idxes) != len(sentence_scores)):\n",
        "            raise ValueError(\"length of indexes and scores should be the same\")\n",
        "        self.decoder_hidden = decoder_hidden\n",
        "        self.last_idx = last_idx\n",
        "        self.sentence_idxes =  sentence_idxes\n",
        "        self.sentence_scores = sentence_scores\n",
        "\n",
        "    def avgScore(self):\n",
        "        if len(self.sentence_scores) == 0:\n",
        "            raise ValueError(\"Calculate average score of sentence, but got no word\")\n",
        "        # return mean of sentence_score\n",
        "        return sum(self.sentence_scores) / len(self.sentence_scores)\n",
        "\n",
        "    def addTopk(self, topi, topv, decoder_hidden, beam_size, voc):\n",
        "        topv = torch.log(topv)\n",
        "        terminates, sentences = [], []\n",
        "        for i in range(beam_size):\n",
        "            if topi[0][i] == EOS_token:\n",
        "                terminates.append(([voc.index2word[idx.item()] for idx in self.sentence_idxes] + ['<EOS>'],\n",
        "                                   self.avgScore())) \n",
        "                continue\n",
        "            idxes = self.sentence_idxes[:] \n",
        "            scores = self.sentence_scores[:] \n",
        "            idxes.append(topi[0][i])\n",
        "            scores.append(topv[0][i])\n",
        "            sentences.append(Sentence(decoder_hidden, topi[0][i], idxes, scores))\n",
        "        return terminates, sentences\n",
        "\n",
        "    def toWordScore(self, voc):\n",
        "        \n",
        "        words = []\n",
        "        for i in range(len(self.sentence_idxes)):\n",
        "            if self.sentence_idxes[i] == EOS_token:\n",
        "                words.append('<EOS>')\n",
        "            else:\n",
        "                words.append(voc.index2word[self.sentence_idxes[i].item()])\n",
        "       \n",
        "        if self.sentence_idxes[-1] != EOS_token:\n",
        "            words.append('<EOS>')\n",
        "        return (words, self.avgScore())\n",
        "\n",
        "    def __repr__(self):\n",
        "        res = f\"Sentence with indices {self.sentence_idxes} \"\n",
        "        res += f\"and scores {self.sentence_scores}\"\n",
        "        return res\n",
        "def beam_decode(decoder, decoder_hidden, encoder_outputs, voc, beam_size, max_length=MAX_LENGTH):\n",
        "    terminal_sentences, prev_top_sentences, next_top_sentences = [], [], []\n",
        "    prev_top_sentences.append(Sentence(decoder_hidden))\n",
        "    for i in range(max_length):\n",
        "        \n",
        "        for sentence in prev_top_sentences:\n",
        "            decoder_input = torch.LongTensor([[sentence.last_idx]])\n",
        "            decoder_input = decoder_input.to(device)\n",
        "\n",
        "            decoder_hidden = sentence.decoder_hidden\n",
        "            decoder_output, decoder_hidden = decoder(decoder_input, decoder_hidden, encoder_outputs)\n",
        "            topv, topi = decoder_output.topk(beam_size)\n",
        "            term, top = sentence.addTopk(topi, topv, decoder_hidden, beam_size, voc)\n",
        "            terminal_sentences.extend(term)\n",
        "            next_top_sentences.extend(top)\n",
        "           \n",
        "        \n",
        "        next_top_sentences.sort(key=lambda s: s.avgScore(), reverse=True)\n",
        "        prev_top_sentences = next_top_sentences[:beam_size]\n",
        "        next_top_sentences = []\n",
        "        \n",
        "\n",
        "    terminal_sentences += [sentence.toWordScore(voc) for sentence in prev_top_sentences]\n",
        "    terminal_sentences.sort(key=lambda x: x[1], reverse=True)\n",
        "\n",
        "    n = min(len(terminal_sentences), 15)\n",
        "    return terminal_sentences[:n]\n",
        "  \n",
        "class BeamSearchDecoder(nn.Module):\n",
        "\n",
        "    def __init__(self, encoder, decoder, voc, beam_size=10):\n",
        "        super(BeamSearchDecoder, self).__init__()\n",
        "        self.encoder = encoder\n",
        "        self.decoder = decoder\n",
        "        self.voc = voc\n",
        "        self.beam_size = beam_size\n",
        "\n",
        "    def forward(self, input_seq, input_length, max_length):\n",
        "        encoder_outputs, encoder_hidden = self.encoder(input_seq, input_length)\n",
        "        \n",
        "        decoder_hidden = encoder_hidden[:self.decoder.n_layers]\n",
        "        \n",
        "        decoder_input = torch.ones(1, 1, device=device, dtype=torch.long) * SOS_token\n",
        "        sentences = beam_decode(self.decoder, decoder_hidden, encoder_outputs, self.voc, self.beam_size, max_length)\n",
        "        \n",
        "        \n",
        "        all_tokens = [torch.tensor(self.voc.word2index.get(w, 0)) for w in sentences[0][0]]\n",
        "        return all_tokens, None\n",
        "\n",
        "    def __str__(self):\n",
        "        res = f\"BeamSearchDecoder with beam size {self.beam_size}\"\n",
        "        return res\n"
      ],
      "execution_count": null,
      "outputs": []
    },
    {
      "cell_type": "markdown",
      "metadata": {
        "id": "7zaFMWYVUULW"
      },
      "source": [
        "# **Run Model**\n",
        "---------\n",
        "\n",
        "Finally, it is time to run our model!\n",
        "\n",
        "Regardless of whether we want to train or test the chatbot model, we\n",
        "must initialize the individual encoder and decoder models. In the\n",
        "following block, we set our desired configurations, choose to start from\n",
        "scratch or set a checkpoint to load from, and build and initialize the\n",
        "models. Feel free to play with different model configurations to\n",
        "optimize performance."
      ]
    },
    {
      "cell_type": "code",
      "metadata": {
        "id": "LFpsfSS2UULZ"
      },
      "source": [
        "model_name = 'cb_model'\n",
        "attn_model = 'dot'\n",
        "\n",
        "hidden_size = 512\n",
        "encoder_n_layers = 2\n",
        "decoder_n_layers = 4\n",
        "dropout = 0.5\n",
        "batch_size = 256 \n",
        "loadFilename = None\n",
        "\n",
        "embedding = nn.Embedding(voc.num_words, hidden_size)\n",
        "encoder = EncoderRNN(hidden_size, embedding, encoder_n_layers, dropout)\n",
        "decoder = LuongAttnDecoderRNN(attn_model, embedding, hidden_size, voc.num_words, decoder_n_layers, dropout)\n",
        "encoder = encoder.to(device)\n",
        "decoder = decoder.to(device)"
      ],
      "execution_count": null,
      "outputs": []
    },
    {
      "cell_type": "code",
      "metadata": {
        "id": "yUSGlN8wUULh",
        "colab": {
          "base_uri": "https://localhost:8080/"
        },
        "outputId": "6b00e402-6614-412e-c362-883ffe718a2f"
      },
      "source": [
        "save_dir = '/content/'\n",
        "clip = 50.0\n",
        "teacher_forcing_ratio = 1.0\n",
        "learning_rate = 0.0001\n",
        "decoder_learning_ratio = 5.0\n",
        "n_iteration = 4000\n",
        "print_every = 10\n",
        "save_every = 1000\n",
        "loadFilename = None\n",
        "corpus_name=\"Chat\"\n",
        "encoder.train()\n",
        "decoder.train()\n",
        "encoder_optimizer = optim.Adam(encoder.parameters(), lr=learning_rate)\n",
        "decoder_optimizer = optim.Adam(decoder.parameters(), lr=learning_rate * decoder_learning_ratio)\n",
        "print(\"Starting Training!\")\n",
        "lossvalues = trainIters(model_name, voc, pairs, encoder, decoder, encoder_optimizer, decoder_optimizer,\n",
        "           embedding, encoder_n_layers, decoder_n_layers, save_dir, n_iteration, batch_size,\n",
        "           print_every, save_every, clip, corpus_name, loadFilename)\n"
      ],
      "execution_count": null,
      "outputs": [
        {
          "output_type": "stream",
          "text": [
            "Starting Training!\n",
            "Initializing ...\n",
            "Training...\n"
          ],
          "name": "stdout"
        },
        {
          "output_type": "stream",
          "text": [
            "/usr/local/lib/python3.7/dist-packages/ipykernel_launcher.py:4: UserWarning: masked_select received a mask with dtype torch.uint8, this behavior is now deprecated,please use a mask with dtype torch.bool instead. (Triggered internally at  /pytorch/aten/src/ATen/native/TensorAdvancedIndexing.cpp:1004.)\n",
            "  after removing the cwd from sys.path.\n",
            "/usr/local/lib/python3.7/dist-packages/torch/autograd/__init__.py:147: UserWarning: masked_scatter_ received a mask with dtype torch.uint8, this behavior is now deprecated,please use a mask with dtype torch.bool instead. (Triggered internally at  /pytorch/aten/src/ATen/native/TensorAdvancedIndexing.cpp:1220.)\n",
            "  allow_unreachable=True, accumulate_grad=True)  # allow_unreachable flag\n"
          ],
          "name": "stderr"
        },
        {
          "output_type": "stream",
          "text": [
            "Iteration: 10; Percent complete: 0.2%; Average loss: 8.1772\n",
            "Iteration: 20; Percent complete: 0.5%; Average loss: 5.7181\n",
            "Iteration: 30; Percent complete: 0.8%; Average loss: 5.0828\n",
            "Iteration: 40; Percent complete: 1.0%; Average loss: 5.0087\n",
            "Iteration: 50; Percent complete: 1.2%; Average loss: 4.9645\n",
            "Iteration: 60; Percent complete: 1.5%; Average loss: 4.8968\n",
            "Iteration: 70; Percent complete: 1.8%; Average loss: 4.8450\n",
            "Iteration: 80; Percent complete: 2.0%; Average loss: 4.7940\n",
            "Iteration: 90; Percent complete: 2.2%; Average loss: 4.7974\n",
            "Iteration: 100; Percent complete: 2.5%; Average loss: 4.7518\n",
            "Iteration: 110; Percent complete: 2.8%; Average loss: 4.7544\n",
            "Iteration: 120; Percent complete: 3.0%; Average loss: 4.7169\n",
            "Iteration: 130; Percent complete: 3.2%; Average loss: 4.7136\n",
            "Iteration: 140; Percent complete: 3.5%; Average loss: 4.6927\n",
            "Iteration: 150; Percent complete: 3.8%; Average loss: 4.6840\n",
            "Iteration: 160; Percent complete: 4.0%; Average loss: 4.6882\n",
            "Iteration: 170; Percent complete: 4.2%; Average loss: 4.6814\n",
            "Iteration: 180; Percent complete: 4.5%; Average loss: 4.5453\n",
            "Iteration: 190; Percent complete: 4.8%; Average loss: 4.4524\n",
            "Iteration: 200; Percent complete: 5.0%; Average loss: 4.4276\n",
            "Iteration: 210; Percent complete: 5.2%; Average loss: 4.4153\n",
            "Iteration: 220; Percent complete: 5.5%; Average loss: 4.4261\n",
            "Iteration: 230; Percent complete: 5.8%; Average loss: 4.4139\n",
            "Iteration: 240; Percent complete: 6.0%; Average loss: 4.4095\n",
            "Iteration: 250; Percent complete: 6.2%; Average loss: 4.3923\n",
            "Iteration: 260; Percent complete: 6.5%; Average loss: 4.4196\n",
            "Iteration: 270; Percent complete: 6.8%; Average loss: 4.3741\n",
            "Iteration: 280; Percent complete: 7.0%; Average loss: 4.3657\n",
            "Iteration: 290; Percent complete: 7.2%; Average loss: 4.3747\n",
            "Iteration: 300; Percent complete: 7.5%; Average loss: 4.3887\n",
            "Iteration: 310; Percent complete: 7.8%; Average loss: 4.3225\n",
            "Iteration: 320; Percent complete: 8.0%; Average loss: 4.3436\n",
            "Iteration: 330; Percent complete: 8.2%; Average loss: 4.3330\n",
            "Iteration: 340; Percent complete: 8.5%; Average loss: 4.2809\n",
            "Iteration: 350; Percent complete: 8.8%; Average loss: 4.2494\n",
            "Iteration: 360; Percent complete: 9.0%; Average loss: 4.2723\n",
            "Iteration: 370; Percent complete: 9.2%; Average loss: 4.2256\n",
            "Iteration: 380; Percent complete: 9.5%; Average loss: 4.2156\n",
            "Iteration: 390; Percent complete: 9.8%; Average loss: 4.2290\n",
            "Iteration: 400; Percent complete: 10.0%; Average loss: 4.1914\n",
            "Iteration: 410; Percent complete: 10.2%; Average loss: 4.1644\n",
            "Iteration: 420; Percent complete: 10.5%; Average loss: 4.1730\n",
            "Iteration: 430; Percent complete: 10.8%; Average loss: 4.1884\n",
            "Iteration: 440; Percent complete: 11.0%; Average loss: 4.1739\n",
            "Iteration: 450; Percent complete: 11.2%; Average loss: 4.1557\n",
            "Iteration: 460; Percent complete: 11.5%; Average loss: 4.1378\n",
            "Iteration: 470; Percent complete: 11.8%; Average loss: 4.0921\n",
            "Iteration: 480; Percent complete: 12.0%; Average loss: 4.1111\n",
            "Iteration: 490; Percent complete: 12.2%; Average loss: 4.0854\n",
            "Iteration: 500; Percent complete: 12.5%; Average loss: 4.0809\n",
            "Iteration: 510; Percent complete: 12.8%; Average loss: 4.0539\n",
            "Iteration: 520; Percent complete: 13.0%; Average loss: 4.0589\n",
            "Iteration: 530; Percent complete: 13.2%; Average loss: 4.0897\n",
            "Iteration: 540; Percent complete: 13.5%; Average loss: 4.0272\n",
            "Iteration: 550; Percent complete: 13.8%; Average loss: 4.0415\n",
            "Iteration: 560; Percent complete: 14.0%; Average loss: 4.0487\n",
            "Iteration: 570; Percent complete: 14.2%; Average loss: 4.0189\n",
            "Iteration: 580; Percent complete: 14.5%; Average loss: 4.0370\n",
            "Iteration: 590; Percent complete: 14.8%; Average loss: 4.0430\n",
            "Iteration: 600; Percent complete: 15.0%; Average loss: 4.0306\n",
            "Iteration: 610; Percent complete: 15.2%; Average loss: 3.9992\n",
            "Iteration: 620; Percent complete: 15.5%; Average loss: 4.0047\n",
            "Iteration: 630; Percent complete: 15.8%; Average loss: 3.9902\n",
            "Iteration: 640; Percent complete: 16.0%; Average loss: 3.9577\n",
            "Iteration: 650; Percent complete: 16.2%; Average loss: 3.9682\n",
            "Iteration: 660; Percent complete: 16.5%; Average loss: 3.9806\n",
            "Iteration: 670; Percent complete: 16.8%; Average loss: 3.9330\n",
            "Iteration: 680; Percent complete: 17.0%; Average loss: 3.9601\n",
            "Iteration: 690; Percent complete: 17.2%; Average loss: 3.9460\n",
            "Iteration: 700; Percent complete: 17.5%; Average loss: 3.9178\n",
            "Iteration: 710; Percent complete: 17.8%; Average loss: 3.9388\n",
            "Iteration: 720; Percent complete: 18.0%; Average loss: 3.9384\n",
            "Iteration: 730; Percent complete: 18.2%; Average loss: 3.9320\n",
            "Iteration: 740; Percent complete: 18.5%; Average loss: 3.8859\n",
            "Iteration: 750; Percent complete: 18.8%; Average loss: 3.8898\n",
            "Iteration: 760; Percent complete: 19.0%; Average loss: 3.8471\n",
            "Iteration: 770; Percent complete: 19.2%; Average loss: 3.8846\n",
            "Iteration: 780; Percent complete: 19.5%; Average loss: 3.8882\n",
            "Iteration: 790; Percent complete: 19.8%; Average loss: 3.8516\n",
            "Iteration: 800; Percent complete: 20.0%; Average loss: 3.8109\n",
            "Iteration: 810; Percent complete: 20.2%; Average loss: 3.8413\n",
            "Iteration: 820; Percent complete: 20.5%; Average loss: 3.8500\n",
            "Iteration: 830; Percent complete: 20.8%; Average loss: 3.8361\n",
            "Iteration: 840; Percent complete: 21.0%; Average loss: 3.8562\n",
            "Iteration: 850; Percent complete: 21.2%; Average loss: 3.8249\n",
            "Iteration: 860; Percent complete: 21.5%; Average loss: 3.8261\n",
            "Iteration: 870; Percent complete: 21.8%; Average loss: 3.8187\n",
            "Iteration: 880; Percent complete: 22.0%; Average loss: 3.8094\n",
            "Iteration: 890; Percent complete: 22.2%; Average loss: 3.7844\n",
            "Iteration: 900; Percent complete: 22.5%; Average loss: 3.7557\n",
            "Iteration: 910; Percent complete: 22.8%; Average loss: 3.7545\n",
            "Iteration: 920; Percent complete: 23.0%; Average loss: 3.7948\n",
            "Iteration: 930; Percent complete: 23.2%; Average loss: 3.7886\n",
            "Iteration: 940; Percent complete: 23.5%; Average loss: 3.7757\n",
            "Iteration: 950; Percent complete: 23.8%; Average loss: 3.7677\n",
            "Iteration: 960; Percent complete: 24.0%; Average loss: 3.7166\n",
            "Iteration: 970; Percent complete: 24.2%; Average loss: 3.7438\n",
            "Iteration: 980; Percent complete: 24.5%; Average loss: 3.6941\n",
            "Iteration: 990; Percent complete: 24.8%; Average loss: 3.6806\n",
            "Iteration: 1000; Percent complete: 25.0%; Average loss: 3.7026\n",
            "Iteration: 1010; Percent complete: 25.2%; Average loss: 3.7151\n",
            "Iteration: 1020; Percent complete: 25.5%; Average loss: 3.7199\n",
            "Iteration: 1030; Percent complete: 25.8%; Average loss: 3.7135\n",
            "Iteration: 1040; Percent complete: 26.0%; Average loss: 3.7045\n",
            "Iteration: 1050; Percent complete: 26.2%; Average loss: 3.6789\n",
            "Iteration: 1060; Percent complete: 26.5%; Average loss: 3.6962\n",
            "Iteration: 1070; Percent complete: 26.8%; Average loss: 3.6831\n",
            "Iteration: 1080; Percent complete: 27.0%; Average loss: 3.6821\n",
            "Iteration: 1090; Percent complete: 27.3%; Average loss: 3.6567\n",
            "Iteration: 1100; Percent complete: 27.5%; Average loss: 3.6038\n",
            "Iteration: 1110; Percent complete: 27.8%; Average loss: 3.6661\n",
            "Iteration: 1120; Percent complete: 28.0%; Average loss: 3.6375\n",
            "Iteration: 1130; Percent complete: 28.2%; Average loss: 3.6442\n",
            "Iteration: 1140; Percent complete: 28.5%; Average loss: 3.6129\n",
            "Iteration: 1150; Percent complete: 28.7%; Average loss: 3.5990\n",
            "Iteration: 1160; Percent complete: 29.0%; Average loss: 3.6162\n",
            "Iteration: 1170; Percent complete: 29.2%; Average loss: 3.6179\n",
            "Iteration: 1180; Percent complete: 29.5%; Average loss: 3.5833\n",
            "Iteration: 1190; Percent complete: 29.8%; Average loss: 3.6332\n",
            "Iteration: 1200; Percent complete: 30.0%; Average loss: 3.6243\n",
            "Iteration: 1210; Percent complete: 30.2%; Average loss: 3.5982\n",
            "Iteration: 1220; Percent complete: 30.5%; Average loss: 3.5880\n",
            "Iteration: 1230; Percent complete: 30.8%; Average loss: 3.5598\n",
            "Iteration: 1240; Percent complete: 31.0%; Average loss: 3.5926\n",
            "Iteration: 1250; Percent complete: 31.2%; Average loss: 3.5367\n",
            "Iteration: 1260; Percent complete: 31.5%; Average loss: 3.5900\n",
            "Iteration: 1270; Percent complete: 31.8%; Average loss: 3.5384\n",
            "Iteration: 1280; Percent complete: 32.0%; Average loss: 3.5503\n",
            "Iteration: 1290; Percent complete: 32.2%; Average loss: 3.5367\n",
            "Iteration: 1300; Percent complete: 32.5%; Average loss: 3.5280\n",
            "Iteration: 1310; Percent complete: 32.8%; Average loss: 3.5475\n",
            "Iteration: 1320; Percent complete: 33.0%; Average loss: 3.5365\n",
            "Iteration: 1330; Percent complete: 33.2%; Average loss: 3.4945\n",
            "Iteration: 1340; Percent complete: 33.5%; Average loss: 3.5323\n",
            "Iteration: 1350; Percent complete: 33.8%; Average loss: 3.5158\n",
            "Iteration: 1360; Percent complete: 34.0%; Average loss: 3.5102\n",
            "Iteration: 1370; Percent complete: 34.2%; Average loss: 3.4878\n",
            "Iteration: 1380; Percent complete: 34.5%; Average loss: 3.4829\n",
            "Iteration: 1390; Percent complete: 34.8%; Average loss: 3.4799\n",
            "Iteration: 1400; Percent complete: 35.0%; Average loss: 3.5025\n",
            "Iteration: 1410; Percent complete: 35.2%; Average loss: 3.5285\n",
            "Iteration: 1420; Percent complete: 35.5%; Average loss: 3.5184\n",
            "Iteration: 1430; Percent complete: 35.8%; Average loss: 3.4879\n",
            "Iteration: 1440; Percent complete: 36.0%; Average loss: 3.4639\n",
            "Iteration: 1450; Percent complete: 36.2%; Average loss: 3.4695\n",
            "Iteration: 1460; Percent complete: 36.5%; Average loss: 3.4914\n",
            "Iteration: 1470; Percent complete: 36.8%; Average loss: 3.4257\n",
            "Iteration: 1480; Percent complete: 37.0%; Average loss: 3.4921\n",
            "Iteration: 1490; Percent complete: 37.2%; Average loss: 3.4226\n",
            "Iteration: 1500; Percent complete: 37.5%; Average loss: 3.4262\n",
            "Iteration: 1510; Percent complete: 37.8%; Average loss: 3.4228\n",
            "Iteration: 1520; Percent complete: 38.0%; Average loss: 3.4070\n",
            "Iteration: 1530; Percent complete: 38.2%; Average loss: 3.4181\n",
            "Iteration: 1540; Percent complete: 38.5%; Average loss: 3.4117\n",
            "Iteration: 1550; Percent complete: 38.8%; Average loss: 3.4111\n",
            "Iteration: 1560; Percent complete: 39.0%; Average loss: 3.3945\n",
            "Iteration: 1570; Percent complete: 39.2%; Average loss: 3.4308\n",
            "Iteration: 1580; Percent complete: 39.5%; Average loss: 3.4106\n",
            "Iteration: 1590; Percent complete: 39.8%; Average loss: 3.4023\n",
            "Iteration: 1600; Percent complete: 40.0%; Average loss: 3.3806\n",
            "Iteration: 1610; Percent complete: 40.2%; Average loss: 3.3807\n",
            "Iteration: 1620; Percent complete: 40.5%; Average loss: 3.4209\n",
            "Iteration: 1630; Percent complete: 40.8%; Average loss: 3.3842\n",
            "Iteration: 1640; Percent complete: 41.0%; Average loss: 3.3340\n",
            "Iteration: 1650; Percent complete: 41.2%; Average loss: 3.3640\n",
            "Iteration: 1660; Percent complete: 41.5%; Average loss: 3.3513\n",
            "Iteration: 1670; Percent complete: 41.8%; Average loss: 3.3418\n",
            "Iteration: 1680; Percent complete: 42.0%; Average loss: 3.3358\n",
            "Iteration: 1690; Percent complete: 42.2%; Average loss: 3.3843\n",
            "Iteration: 1700; Percent complete: 42.5%; Average loss: 3.3681\n",
            "Iteration: 1710; Percent complete: 42.8%; Average loss: 3.3609\n",
            "Iteration: 1720; Percent complete: 43.0%; Average loss: 3.3333\n",
            "Iteration: 1730; Percent complete: 43.2%; Average loss: 3.3450\n",
            "Iteration: 1740; Percent complete: 43.5%; Average loss: 3.3122\n",
            "Iteration: 1750; Percent complete: 43.8%; Average loss: 3.3135\n",
            "Iteration: 1760; Percent complete: 44.0%; Average loss: 3.2991\n",
            "Iteration: 1770; Percent complete: 44.2%; Average loss: 3.3327\n",
            "Iteration: 1780; Percent complete: 44.5%; Average loss: 3.3131\n",
            "Iteration: 1790; Percent complete: 44.8%; Average loss: 3.2955\n",
            "Iteration: 1800; Percent complete: 45.0%; Average loss: 3.3161\n",
            "Iteration: 1810; Percent complete: 45.2%; Average loss: 3.3087\n",
            "Iteration: 1820; Percent complete: 45.5%; Average loss: 3.3369\n",
            "Iteration: 1830; Percent complete: 45.8%; Average loss: 3.2940\n",
            "Iteration: 1840; Percent complete: 46.0%; Average loss: 3.3306\n",
            "Iteration: 1850; Percent complete: 46.2%; Average loss: 3.3079\n",
            "Iteration: 1860; Percent complete: 46.5%; Average loss: 3.2608\n",
            "Iteration: 1870; Percent complete: 46.8%; Average loss: 3.2465\n",
            "Iteration: 1880; Percent complete: 47.0%; Average loss: 3.2464\n",
            "Iteration: 1890; Percent complete: 47.2%; Average loss: 3.2228\n",
            "Iteration: 1900; Percent complete: 47.5%; Average loss: 3.2704\n",
            "Iteration: 1910; Percent complete: 47.8%; Average loss: 3.2540\n",
            "Iteration: 1920; Percent complete: 48.0%; Average loss: 3.2635\n",
            "Iteration: 1930; Percent complete: 48.2%; Average loss: 3.2791\n",
            "Iteration: 1940; Percent complete: 48.5%; Average loss: 3.2368\n",
            "Iteration: 1950; Percent complete: 48.8%; Average loss: 3.2206\n",
            "Iteration: 1960; Percent complete: 49.0%; Average loss: 3.2609\n",
            "Iteration: 1970; Percent complete: 49.2%; Average loss: 3.2004\n",
            "Iteration: 1980; Percent complete: 49.5%; Average loss: 3.2398\n",
            "Iteration: 1990; Percent complete: 49.8%; Average loss: 3.2421\n",
            "Iteration: 2000; Percent complete: 50.0%; Average loss: 3.2190\n",
            "Iteration: 2010; Percent complete: 50.2%; Average loss: 3.1839\n",
            "Iteration: 2020; Percent complete: 50.5%; Average loss: 3.2100\n",
            "Iteration: 2030; Percent complete: 50.7%; Average loss: 3.1663\n",
            "Iteration: 2040; Percent complete: 51.0%; Average loss: 3.1761\n",
            "Iteration: 2050; Percent complete: 51.2%; Average loss: 3.1854\n",
            "Iteration: 2060; Percent complete: 51.5%; Average loss: 3.1706\n",
            "Iteration: 2070; Percent complete: 51.7%; Average loss: 3.1513\n",
            "Iteration: 2080; Percent complete: 52.0%; Average loss: 3.1586\n",
            "Iteration: 2090; Percent complete: 52.2%; Average loss: 3.1712\n",
            "Iteration: 2100; Percent complete: 52.5%; Average loss: 3.1360\n",
            "Iteration: 2110; Percent complete: 52.8%; Average loss: 3.1496\n",
            "Iteration: 2120; Percent complete: 53.0%; Average loss: 3.1353\n",
            "Iteration: 2130; Percent complete: 53.2%; Average loss: 3.1404\n",
            "Iteration: 2140; Percent complete: 53.5%; Average loss: 3.1543\n",
            "Iteration: 2150; Percent complete: 53.8%; Average loss: 3.1386\n",
            "Iteration: 2160; Percent complete: 54.0%; Average loss: 3.1294\n",
            "Iteration: 2170; Percent complete: 54.2%; Average loss: 3.1502\n",
            "Iteration: 2180; Percent complete: 54.5%; Average loss: 3.1218\n",
            "Iteration: 2190; Percent complete: 54.8%; Average loss: 3.1332\n",
            "Iteration: 2200; Percent complete: 55.0%; Average loss: 3.0946\n",
            "Iteration: 2210; Percent complete: 55.2%; Average loss: 3.1734\n",
            "Iteration: 2220; Percent complete: 55.5%; Average loss: 3.1281\n",
            "Iteration: 2230; Percent complete: 55.8%; Average loss: 3.1360\n",
            "Iteration: 2240; Percent complete: 56.0%; Average loss: 3.1270\n",
            "Iteration: 2250; Percent complete: 56.2%; Average loss: 3.0953\n",
            "Iteration: 2260; Percent complete: 56.5%; Average loss: 3.0955\n",
            "Iteration: 2270; Percent complete: 56.8%; Average loss: 3.0968\n",
            "Iteration: 2280; Percent complete: 57.0%; Average loss: 3.0965\n",
            "Iteration: 2290; Percent complete: 57.2%; Average loss: 3.0902\n",
            "Iteration: 2300; Percent complete: 57.5%; Average loss: 3.1063\n",
            "Iteration: 2310; Percent complete: 57.8%; Average loss: 3.0854\n",
            "Iteration: 2320; Percent complete: 58.0%; Average loss: 3.0585\n",
            "Iteration: 2330; Percent complete: 58.2%; Average loss: 3.0597\n",
            "Iteration: 2340; Percent complete: 58.5%; Average loss: 3.1274\n",
            "Iteration: 2350; Percent complete: 58.8%; Average loss: 3.0531\n",
            "Iteration: 2360; Percent complete: 59.0%; Average loss: 3.0747\n",
            "Iteration: 2370; Percent complete: 59.2%; Average loss: 3.0744\n",
            "Iteration: 2380; Percent complete: 59.5%; Average loss: 3.0587\n",
            "Iteration: 2390; Percent complete: 59.8%; Average loss: 3.0737\n",
            "Iteration: 2400; Percent complete: 60.0%; Average loss: 3.0206\n",
            "Iteration: 2410; Percent complete: 60.2%; Average loss: 3.0338\n",
            "Iteration: 2420; Percent complete: 60.5%; Average loss: 3.0133\n",
            "Iteration: 2430; Percent complete: 60.8%; Average loss: 3.0586\n",
            "Iteration: 2440; Percent complete: 61.0%; Average loss: 3.0147\n",
            "Iteration: 2450; Percent complete: 61.3%; Average loss: 3.0087\n",
            "Iteration: 2460; Percent complete: 61.5%; Average loss: 3.0545\n",
            "Iteration: 2470; Percent complete: 61.8%; Average loss: 3.0115\n",
            "Iteration: 2480; Percent complete: 62.0%; Average loss: 3.0182\n",
            "Iteration: 2490; Percent complete: 62.3%; Average loss: 3.0274\n",
            "Iteration: 2500; Percent complete: 62.5%; Average loss: 3.0042\n",
            "Iteration: 2510; Percent complete: 62.7%; Average loss: 2.9968\n",
            "Iteration: 2520; Percent complete: 63.0%; Average loss: 3.0057\n",
            "Iteration: 2530; Percent complete: 63.2%; Average loss: 3.0053\n",
            "Iteration: 2540; Percent complete: 63.5%; Average loss: 3.0295\n",
            "Iteration: 2550; Percent complete: 63.7%; Average loss: 2.9695\n",
            "Iteration: 2560; Percent complete: 64.0%; Average loss: 2.9888\n",
            "Iteration: 2570; Percent complete: 64.2%; Average loss: 2.9516\n",
            "Iteration: 2580; Percent complete: 64.5%; Average loss: 2.9756\n",
            "Iteration: 2590; Percent complete: 64.8%; Average loss: 2.9750\n",
            "Iteration: 2600; Percent complete: 65.0%; Average loss: 2.9651\n",
            "Iteration: 2610; Percent complete: 65.2%; Average loss: 2.9804\n",
            "Iteration: 2620; Percent complete: 65.5%; Average loss: 2.9653\n",
            "Iteration: 2630; Percent complete: 65.8%; Average loss: 2.9591\n",
            "Iteration: 2640; Percent complete: 66.0%; Average loss: 2.9566\n",
            "Iteration: 2650; Percent complete: 66.2%; Average loss: 2.9303\n",
            "Iteration: 2660; Percent complete: 66.5%; Average loss: 2.8913\n",
            "Iteration: 2670; Percent complete: 66.8%; Average loss: 2.9374\n",
            "Iteration: 2680; Percent complete: 67.0%; Average loss: 2.9669\n",
            "Iteration: 2690; Percent complete: 67.2%; Average loss: 2.8953\n",
            "Iteration: 2700; Percent complete: 67.5%; Average loss: 2.9394\n",
            "Iteration: 2710; Percent complete: 67.8%; Average loss: 2.9322\n",
            "Iteration: 2720; Percent complete: 68.0%; Average loss: 2.9080\n",
            "Iteration: 2730; Percent complete: 68.2%; Average loss: 2.9119\n",
            "Iteration: 2740; Percent complete: 68.5%; Average loss: 2.8900\n",
            "Iteration: 2750; Percent complete: 68.8%; Average loss: 2.9040\n",
            "Iteration: 2760; Percent complete: 69.0%; Average loss: 2.9054\n",
            "Iteration: 2770; Percent complete: 69.2%; Average loss: 2.9451\n",
            "Iteration: 2780; Percent complete: 69.5%; Average loss: 2.8695\n",
            "Iteration: 2790; Percent complete: 69.8%; Average loss: 2.8716\n",
            "Iteration: 2800; Percent complete: 70.0%; Average loss: 2.8869\n",
            "Iteration: 2810; Percent complete: 70.2%; Average loss: 2.8644\n",
            "Iteration: 2820; Percent complete: 70.5%; Average loss: 2.8709\n",
            "Iteration: 2830; Percent complete: 70.8%; Average loss: 2.8822\n",
            "Iteration: 2840; Percent complete: 71.0%; Average loss: 2.8274\n",
            "Iteration: 2850; Percent complete: 71.2%; Average loss: 2.8847\n",
            "Iteration: 2860; Percent complete: 71.5%; Average loss: 2.8517\n",
            "Iteration: 2870; Percent complete: 71.8%; Average loss: 2.8636\n",
            "Iteration: 2880; Percent complete: 72.0%; Average loss: 2.8573\n",
            "Iteration: 2890; Percent complete: 72.2%; Average loss: 2.8581\n",
            "Iteration: 2900; Percent complete: 72.5%; Average loss: 2.8309\n",
            "Iteration: 2910; Percent complete: 72.8%; Average loss: 2.8112\n",
            "Iteration: 2920; Percent complete: 73.0%; Average loss: 2.8425\n",
            "Iteration: 2930; Percent complete: 73.2%; Average loss: 2.8217\n",
            "Iteration: 2940; Percent complete: 73.5%; Average loss: 2.8420\n",
            "Iteration: 2950; Percent complete: 73.8%; Average loss: 2.8440\n",
            "Iteration: 2960; Percent complete: 74.0%; Average loss: 2.8220\n",
            "Iteration: 2970; Percent complete: 74.2%; Average loss: 2.8196\n",
            "Iteration: 2980; Percent complete: 74.5%; Average loss: 2.8406\n",
            "Iteration: 2990; Percent complete: 74.8%; Average loss: 2.7870\n",
            "Iteration: 3000; Percent complete: 75.0%; Average loss: 2.8244\n",
            "Iteration: 3010; Percent complete: 75.2%; Average loss: 2.8186\n",
            "Iteration: 3020; Percent complete: 75.5%; Average loss: 2.8034\n",
            "Iteration: 3030; Percent complete: 75.8%; Average loss: 2.8330\n",
            "Iteration: 3040; Percent complete: 76.0%; Average loss: 2.7850\n",
            "Iteration: 3050; Percent complete: 76.2%; Average loss: 2.7834\n",
            "Iteration: 3060; Percent complete: 76.5%; Average loss: 2.7692\n",
            "Iteration: 3070; Percent complete: 76.8%; Average loss: 2.8187\n",
            "Iteration: 3080; Percent complete: 77.0%; Average loss: 2.7711\n",
            "Iteration: 3090; Percent complete: 77.2%; Average loss: 2.7983\n",
            "Iteration: 3100; Percent complete: 77.5%; Average loss: 2.8008\n",
            "Iteration: 3110; Percent complete: 77.8%; Average loss: 2.7728\n",
            "Iteration: 3120; Percent complete: 78.0%; Average loss: 2.7830\n",
            "Iteration: 3130; Percent complete: 78.2%; Average loss: 2.7187\n",
            "Iteration: 3140; Percent complete: 78.5%; Average loss: 2.7787\n",
            "Iteration: 3150; Percent complete: 78.8%; Average loss: 2.7223\n",
            "Iteration: 3160; Percent complete: 79.0%; Average loss: 2.7360\n",
            "Iteration: 3170; Percent complete: 79.2%; Average loss: 2.7556\n",
            "Iteration: 3180; Percent complete: 79.5%; Average loss: 2.7619\n",
            "Iteration: 3190; Percent complete: 79.8%; Average loss: 2.6972\n",
            "Iteration: 3200; Percent complete: 80.0%; Average loss: 2.7366\n",
            "Iteration: 3210; Percent complete: 80.2%; Average loss: 2.7309\n",
            "Iteration: 3220; Percent complete: 80.5%; Average loss: 2.7152\n",
            "Iteration: 3230; Percent complete: 80.8%; Average loss: 2.7092\n",
            "Iteration: 3240; Percent complete: 81.0%; Average loss: 2.7253\n",
            "Iteration: 3250; Percent complete: 81.2%; Average loss: 2.7189\n",
            "Iteration: 3260; Percent complete: 81.5%; Average loss: 2.7654\n",
            "Iteration: 3270; Percent complete: 81.8%; Average loss: 2.7079\n",
            "Iteration: 3280; Percent complete: 82.0%; Average loss: 2.7389\n",
            "Iteration: 3290; Percent complete: 82.2%; Average loss: 2.6710\n",
            "Iteration: 3300; Percent complete: 82.5%; Average loss: 2.6756\n",
            "Iteration: 3310; Percent complete: 82.8%; Average loss: 2.6654\n",
            "Iteration: 3320; Percent complete: 83.0%; Average loss: 2.6842\n",
            "Iteration: 3330; Percent complete: 83.2%; Average loss: 2.6654\n",
            "Iteration: 3340; Percent complete: 83.5%; Average loss: 2.6773\n",
            "Iteration: 3350; Percent complete: 83.8%; Average loss: 2.6888\n",
            "Iteration: 3360; Percent complete: 84.0%; Average loss: 2.6778\n",
            "Iteration: 3370; Percent complete: 84.2%; Average loss: 2.6644\n",
            "Iteration: 3380; Percent complete: 84.5%; Average loss: 2.6768\n",
            "Iteration: 3390; Percent complete: 84.8%; Average loss: 2.6756\n",
            "Iteration: 3400; Percent complete: 85.0%; Average loss: 2.6644\n",
            "Iteration: 3410; Percent complete: 85.2%; Average loss: 2.6941\n",
            "Iteration: 3420; Percent complete: 85.5%; Average loss: 2.6315\n",
            "Iteration: 3430; Percent complete: 85.8%; Average loss: 2.6419\n",
            "Iteration: 3440; Percent complete: 86.0%; Average loss: 2.6776\n",
            "Iteration: 3450; Percent complete: 86.2%; Average loss: 2.6123\n",
            "Iteration: 3460; Percent complete: 86.5%; Average loss: 2.6314\n",
            "Iteration: 3470; Percent complete: 86.8%; Average loss: 2.6237\n",
            "Iteration: 3480; Percent complete: 87.0%; Average loss: 2.6220\n",
            "Iteration: 3490; Percent complete: 87.2%; Average loss: 2.6484\n",
            "Iteration: 3500; Percent complete: 87.5%; Average loss: 2.6529\n",
            "Iteration: 3510; Percent complete: 87.8%; Average loss: 2.5857\n",
            "Iteration: 3520; Percent complete: 88.0%; Average loss: 2.5984\n",
            "Iteration: 3530; Percent complete: 88.2%; Average loss: 2.6141\n",
            "Iteration: 3540; Percent complete: 88.5%; Average loss: 2.5840\n",
            "Iteration: 3550; Percent complete: 88.8%; Average loss: 2.5982\n",
            "Iteration: 3560; Percent complete: 89.0%; Average loss: 2.6315\n",
            "Iteration: 3570; Percent complete: 89.2%; Average loss: 2.6055\n",
            "Iteration: 3580; Percent complete: 89.5%; Average loss: 2.6186\n",
            "Iteration: 3590; Percent complete: 89.8%; Average loss: 2.5686\n",
            "Iteration: 3600; Percent complete: 90.0%; Average loss: 2.5994\n",
            "Iteration: 3610; Percent complete: 90.2%; Average loss: 2.5803\n",
            "Iteration: 3620; Percent complete: 90.5%; Average loss: 2.5536\n",
            "Iteration: 3630; Percent complete: 90.8%; Average loss: 2.5547\n",
            "Iteration: 3640; Percent complete: 91.0%; Average loss: 2.5938\n",
            "Iteration: 3650; Percent complete: 91.2%; Average loss: 2.5525\n",
            "Iteration: 3660; Percent complete: 91.5%; Average loss: 2.5616\n",
            "Iteration: 3670; Percent complete: 91.8%; Average loss: 2.5637\n",
            "Iteration: 3680; Percent complete: 92.0%; Average loss: 2.5444\n",
            "Iteration: 3690; Percent complete: 92.2%; Average loss: 2.5589\n",
            "Iteration: 3700; Percent complete: 92.5%; Average loss: 2.5550\n",
            "Iteration: 3710; Percent complete: 92.8%; Average loss: 2.5423\n",
            "Iteration: 3720; Percent complete: 93.0%; Average loss: 2.5553\n",
            "Iteration: 3730; Percent complete: 93.2%; Average loss: 2.5208\n",
            "Iteration: 3740; Percent complete: 93.5%; Average loss: 2.5400\n",
            "Iteration: 3750; Percent complete: 93.8%; Average loss: 2.5242\n",
            "Iteration: 3760; Percent complete: 94.0%; Average loss: 2.5122\n",
            "Iteration: 3770; Percent complete: 94.2%; Average loss: 2.5251\n",
            "Iteration: 3780; Percent complete: 94.5%; Average loss: 2.5068\n",
            "Iteration: 3790; Percent complete: 94.8%; Average loss: 2.4976\n",
            "Iteration: 3800; Percent complete: 95.0%; Average loss: 2.5210\n",
            "Iteration: 3810; Percent complete: 95.2%; Average loss: 2.5066\n",
            "Iteration: 3820; Percent complete: 95.5%; Average loss: 2.5010\n",
            "Iteration: 3830; Percent complete: 95.8%; Average loss: 2.5087\n",
            "Iteration: 3840; Percent complete: 96.0%; Average loss: 2.4892\n",
            "Iteration: 3850; Percent complete: 96.2%; Average loss: 2.4892\n",
            "Iteration: 3860; Percent complete: 96.5%; Average loss: 2.4914\n",
            "Iteration: 3870; Percent complete: 96.8%; Average loss: 2.5108\n",
            "Iteration: 3880; Percent complete: 97.0%; Average loss: 2.5417\n",
            "Iteration: 3890; Percent complete: 97.2%; Average loss: 2.4681\n",
            "Iteration: 3900; Percent complete: 97.5%; Average loss: 2.4698\n",
            "Iteration: 3910; Percent complete: 97.8%; Average loss: 2.4383\n",
            "Iteration: 3920; Percent complete: 98.0%; Average loss: 2.4531\n",
            "Iteration: 3930; Percent complete: 98.2%; Average loss: 2.4597\n",
            "Iteration: 3940; Percent complete: 98.5%; Average loss: 2.4508\n",
            "Iteration: 3950; Percent complete: 98.8%; Average loss: 2.4541\n",
            "Iteration: 3960; Percent complete: 99.0%; Average loss: 2.4513\n",
            "Iteration: 3970; Percent complete: 99.2%; Average loss: 2.4495\n",
            "Iteration: 3980; Percent complete: 99.5%; Average loss: 2.4584\n",
            "Iteration: 3990; Percent complete: 99.8%; Average loss: 2.4449\n",
            "Iteration: 4000; Percent complete: 100.0%; Average loss: 2.4653\n"
          ],
          "name": "stdout"
        }
      ]
    },
    {
      "cell_type": "code",
      "metadata": {
        "id": "dLIoJ0EpoEOk",
        "colab": {
          "base_uri": "https://localhost:8080/",
          "height": 265
        },
        "outputId": "36d81de1-a9d5-4797-9836-7e377079a514"
      },
      "source": [
        "import matplotlib.pyplot as plt\n",
        "\n",
        "plt.plot(lossvalues)\n",
        "plt.show()\n"
      ],
      "execution_count": null,
      "outputs": [
        {
          "output_type": "display_data",
          "data": {
            "image/png": "[encoded data removed]",
            "text/plain": [
              "<Figure size 432x288 with 1 Axes>"
            ]
          },
          "metadata": {
            "tags": [],
            "needs_background": "light"
          }
        }
      ]
    },
    {
      "cell_type": "markdown",
      "metadata": {
        "id": "GoQNx3zOOVJ_"
      },
      "source": [
        "# **Bleu score Calculation** \n",
        "Bleu score is evaluation metric to calculate the capacity of our model to predoct right predictions.More you can learn about Bleu score from this link(https://machinelearningmastery.com/calculate-bleu-score-for-text-python/)"
      ]
    },
    {
      "cell_type": "code",
      "metadata": {
        "id": "hqBXEl1FBUQA",
        "colab": {
          "base_uri": "https://localhost:8080/"
        },
        "outputId": "5864df22-873d-4f07-e363-2172b9e4b5e9"
      },
      "source": [
        "# Set dropout layers to eval mode\n",
        "encoder.eval()\n",
        "decoder.eval()\n",
        "\n",
        "# Initialize search module\n",
        "from nltk.translate.bleu_score import sentence_bleu,corpus_bleu\n",
        "from nltk.translate.bleu_score import SmoothingFunction\n",
        "\n",
        "\n",
        "searcher = BeamSearchDecoder(encoder, decoder, voc, 10)\n",
        "gram1_bleu_score = []\n",
        "gram2_bleu_score = []\n",
        "for i in range(0,len(testpairs),1):\n",
        "  \n",
        "  input_sentence = testpairs[i][0]\n",
        "  \n",
        "  reference = testpairs[i][1:]\n",
        "  templist = []\n",
        "  for k in range(len(reference)):\n",
        "    if(reference[k]!=''):\n",
        "      temp = reference[k].split(' ')\n",
        "      templist.append(temp)\n",
        "  \n",
        "  \n",
        "  input_sentence = normalizeString(input_sentence)\n",
        "  output_words = evaluate(encoder, decoder, searcher, voc, input_sentence)\n",
        "  output_words[:] = [x for x in output_words if not (x == 'EOS' or x == 'PAD')]\n",
        "  chencherry = SmoothingFunction()\n",
        "  score1 = sentence_bleu(templist,output_words,weights=(1, 0, 0, 0) ,smoothing_function=chencherry.method1)\n",
        "  score2 = sentence_bleu(templist,output_words,weights=(0.5, 0.5, 0, 0),smoothing_function=chencherry.method1) \n",
        "  gram1_bleu_score.append(score1)\n",
        "  gram2_bleu_score.append(score2)\n",
        "  if i%1000 == 0:\n",
        "    print(i,sum(gram1_bleu_score)/len(gram1_bleu_score),sum(gram2_bleu_score)/len(gram2_bleu_score))\n",
        "print(\"Total Bleu Score for 1 grams on testing pairs: \", sum(gram1_bleu_score)/len(gram1_bleu_score))  \n",
        "print(\"Total Bleu Score for 2 grams on testing pairs: \", sum(gram2_bleu_score)/len(gram2_bleu_score))  "
      ],
      "execution_count": null,
      "outputs": [
        {
          "output_type": "stream",
          "text": [
            "0 0.13406400920712788 0.04739878501170794\n",
            "1000 0.16193055114302377 0.07335450781084608\n",
            "2000 0.15460013612103893 0.07034464885324582\n",
            "3000 0.1551515402006069 0.06944335664169163\n",
            "4000 0.1596748932945436 0.07194722230396375\n",
            "5000 0.1572454212126666 0.07081699786224598\n",
            "6000 0.15663621789940266 0.0703472723736038\n",
            "7000 0.15858248762200935 0.0724716452460174\n",
            "8000 0.1583255562417439 0.07201647189231966\n",
            "Total Bleu Score for 1 grams on testing pairs:  0.15758973730608072\n",
            "Total Bleu Score for 2 grams on testing pairs:  0.07164252492136133\n"
          ],
          "name": "stdout"
        }
      ]
    },
    {
      "cell_type": "markdown",
      "metadata": {
        "id": "nbDKWSfpfLpU"
      },
      "source": [
        "# **Chatting with BOT / Evaluation**\n",
        "Lets do chat with our newly trained chatbot"
      ]
    },
    {
      "cell_type": "code",
      "metadata": {
        "id": "xdB43yBKUULm",
        "colab": {
          "base_uri": "https://localhost:8080/"
        },
        "outputId": "3d38cc32-2e69-439e-adfc-96ccb46093de"
      },
      "source": [
        "encoder.eval()\n",
        "decoder.eval()\n",
        "searcher = BeamSearchDecoder(encoder, decoder, voc, 10)\n",
        "evaluateInput(encoder, decoder, searcher, voc)"
      ],
      "execution_count": null,
      "outputs": [
        {
          "output_type": "stream",
          "text": [
            "> hello\n",
            "Bot: hello . . .\n",
            "> can i ask you a question\n",
            "Bot: i m not sure .\n",
            "> why\n",
            "Bot: i m sorry .\n",
            "> how are you\n",
            "Bot: fine . . . how are you drunk ?\n",
            "> no i am not\n",
            "Bot: i ll see you there .\n",
            "> have you ever read a book\n",
            "Bot: no\n",
            "> you should try that\n",
            "Bot: i don t know .\n",
            "> how are you\n",
            "Bot: fine . . . how are you drunk ?\n",
            "> what is your name\n",
            "Bot: i don t know .\n",
            "> who is your mother ?\n",
            "Bot: my name is tom . . .\n",
            "> who is your father ?\n",
            "Bot: i don t know .\n",
            "> how old are you ?\n",
            "Bot: i don t know .\n",
            "> what is your name?\n",
            "Bot: victor .\n",
            "> how old are you?\n",
            "Bot: i don t know .\n",
            "> have you been in Viet Nam?\n",
            "Error: Encountered unknown word.\n",
            "> have you been to VietNam\n",
            "Bot: i don t know .\n",
            "> Do you know Persuasion?\n",
            "Error: Encountered unknown word.\n",
            "> bye\n",
            "Bot: bye .\n",
            "> bye\n",
            "Bot: bye .\n",
            "> \n",
            "Bot: what s it doing ?\n",
            "> fine\n",
            "Bot: i m sorry . i m sorry .\n",
            "> it is good\n",
            "Bot: i m sorry .\n",
            "> bye\n",
            "Bot: bye .\n",
            ">  \n",
            "Bot: what s it doing ?\n",
            "> quit\n"
          ],
          "name": "stdout"
        }
      ]
    },
    {
      "cell_type": "code",
      "metadata": {
        "id": "UFIGrOX4OtgU",
        "colab": {
          "base_uri": "https://localhost:8080/"
        },
        "outputId": "83d0f680-644c-4bec-e8a3-56406720c4fd"
      },
      "source": [
        "encoder.eval()\n",
        "decoder.eval()\n",
        "searcher = BeamSearchDecoder(encoder, decoder, voc, 10)\n",
        "evaluateInput(encoder, decoder, searcher, voc)"
      ],
      "execution_count": null,
      "outputs": [
        {
          "output_type": "stream",
          "text": [
            "> hello\n",
            "Bot: hello . . .\n",
            "> how are you?\n",
            "Bot: i m fine .\n",
            "> are you robot?\n",
            "Error: Encountered unknown word.\n",
            "> What do you do?\n",
            "Bot: i don t know .\n",
            "> quit\n"
          ],
          "name": "stdout"
        }
      ]
    },
    {
      "cell_type": "code",
      "metadata": {
        "colab": {
          "base_uri": "https://localhost:8080/",
          "height": 34
        },
        "id": "rnl26vdV7LiL",
        "outputId": "a889583d-7c11-40f8-8eaf-863ae8a6758e"
      },
      "source": [
        "from google.colab import files\n",
        "files.download(\"/content/cb_model\") "
      ],
      "execution_count": null,
      "outputs": [
        {
          "output_type": "display_data",
          "data": {
            "application/javascript": [
              "\n",
              "    async function download(id, filename, size) {\n",
              "      if (!google.colab.kernel.accessAllowed) {\n",
              "        return;\n",
              "      }\n",
              "      const div = document.createElement('div');\n",
              "      const label = document.createElement('label');\n",
              "      label.textContent = `Downloading \"${filename}\": `;\n",
              "      div.appendChild(label);\n",
              "      const progress = document.createElement('progress');\n",
              "      progress.max = size;\n",
              "      div.appendChild(progress);\n",
              "      document.body.appendChild(div);\n",
              "\n",
              "      const buffers = [];\n",
              "      let downloaded = 0;\n",
              "\n",
              "      const channel = await google.colab.kernel.comms.open(id);\n",
              "      // Send a message to notify the kernel that we're ready.\n",
              "      channel.send({})\n",
              "\n",
              "      for await (const message of channel.messages) {\n",
              "        // Send a message to notify the kernel that we're ready.\n",
              "        channel.send({})\n",
              "        if (message.buffers) {\n",
              "          for (const buffer of message.buffers) {\n",
              "            buffers.push(buffer);\n",
              "            downloaded += buffer.byteLength;\n",
              "            progress.value = downloaded;\n",
              "          }\n",
              "        }\n",
              "      }\n",
              "      const blob = new Blob(buffers, {type: 'application/binary'});\n",
              "      const a = document.createElement('a');\n",
              "      a.href = window.URL.createObjectURL(blob);\n",
              "      a.download = filename;\n",
              "      div.appendChild(a);\n",
              "      a.click();\n",
              "      div.remove();\n",
              "    }\n",
              "  "
            ],
            "text/plain": [
              "<IPython.core.display.Javascript object>"
            ]
          },
          "metadata": {
            "tags": []
          }
        },
        {
          "output_type": "display_data",
          "data": {
            "application/javascript": [
              "download(\"download_62a429cc-2bd6-4df4-b229-1485a36bb5df\", \"cb_model\", 4096)"
            ],
            "text/plain": [
              "<IPython.core.display.Javascript object>"
            ]
          },
          "metadata": {
            "tags": []
          }
        }
      ]
    }
  ]
}