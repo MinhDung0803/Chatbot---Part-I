{
  "nbformat": 4,
  "nbformat_minor": 0,
  "metadata": {
    "colab": {
      "name": "Chatbot - Part I",
      "provenance": [],
      "collapsed_sections": [],
      "toc_visible": true
    },
    "kernelspec": {
      "name": "python3",
      "display_name": "Python 3"
    },
    "language_info": {
      "name": "python"
    }
  },
  "cells": [
    {
      "cell_type": "markdown",
      "metadata": {
        "id": "ZOUhp5xsewSQ"
      },
      "source": [
        "## Data pre-processing"
      ]
    },
    {
      "cell_type": "code",
      "metadata": {
        "colab": {
          "base_uri": "https://localhost:8080/"
        },
        "id": "-s-K-8jHfohK",
        "outputId": "21c23d79-7cbb-44e0-d71e-6cbb78b0d0aa"
      },
      "source": [
        "f = open(\"/content/Persuasion_of_Jane_Austen.txt\", \"r\")\n",
        "raw = f.read()\n",
        "raw = raw.lower()# converts to lowercase\n",
        "print(\"[INFO] - Raw data samples: \", raw[:500])\n",
        "print(\"[INFO] - Length of raw data: \", len(raw))"
      ],
      "execution_count": null,
      "outputs": [
        {
          "output_type": "stream",
          "text": [
            "[INFO] - Raw data samples:  the project gutenberg ebook of persuasion, by jane austen\n",
            "\n",
            "this ebook is for the use of anyone anywhere at no cost and with\n",
            "almost no restrictions whatsoever.  you may copy it, give it away or\n",
            "re-use it under the terms of the project gutenberg license included\n",
            "with this ebook or online at www.gutenberg.org\n",
            "\n",
            "\n",
            "title: persuasion\n",
            "\n",
            "author: jane austen\n",
            "\n",
            "release date: june 5, 2008 [ebook #105]\n",
            "last updated: february 15, 2015\n",
            "\n",
            "language: english\n",
            "\n",
            "\n",
            "*** start of this project gutenberg ebook persuasion ***\n",
            "\n",
            "[INFO] - Length of raw data:  486261\n"
          ],
          "name": "stdout"
        }
      ]
    },
    {
      "cell_type": "code",
      "metadata": {
        "colab": {
          "base_uri": "https://localhost:8080/"
        },
        "id": "1-bDCfLafwRE",
        "outputId": "2f0f2672-2c6a-493d-8489-36673248b6e7"
      },
      "source": [
        "data = []\n",
        "trigger = 0\n",
        "begin = 0\n",
        "end = 0\n",
        "for i in range(len(raw)):\n",
        "  if raw[i] == \"\\\"\":\n",
        "    if trigger == 0:\n",
        "      begin = i\n",
        "      trigger = 1\n",
        "    elif trigger == 1:\n",
        "      end = i\n",
        "      trigger = 2\n",
        "  if trigger == 2:\n",
        "    data.append(raw[begin+1:end])\n",
        "    begin = 0\n",
        "    end = 0\n",
        "    trigger = 0\n",
        "print(data[:10])\n",
        "print(len(data))"
      ],
      "execution_count": null,
      "outputs": [
        {
          "output_type": "stream",
          "text": [
            "['elliot of kellynch hall', 'walter elliot, born march 1, 1760, married, july 15, 1784, elizabeth,\\ndaughter of james stevenson, esq. of south park, in the county of\\ngloucester, by which lady (who died 1800) he has issue elizabeth, born\\njune 1, 1785; anne, born august 9, 1787; a still-born son, november 5,\\n1789; mary, born november 20, 1791.', 'married, december 16, 1810, charles, son and heir of charles musgrove,\\nesq. of uppercross, in the county of somerset,', 'principal seat, kellynch hall, in the county of somerset,', 'heir presumptive, william walter elliot, esq., great grandson of the\\nsecond sir walter.', 'for they must have been seen together,', \"once at tattersall's, and twice in the lobby of the house of\\ncommons.\", 'can we retrench?  does it occur to\\nyou that there is any one article in which we can retrench?', 'if we can persuade your father to all this,', 'much may be done.  if he will adopt these\\nregulations, in seven years he will be clear; and i hope we may be able\\nto convince him and elizabeth, that kellynch hall has a respectability\\nin itself which cannot be affected by these reductions; and that the\\ntrue dignity of sir walter elliot will be very far from lessened in the\\neyes of sensible people, by acting like a man of principle.  what will\\nhe be doing, in fact, but what very many of our first families have\\ndone, or ought to do?  there will be nothing singular in his case; and\\nit is singularity which often makes the worst part of our suffering, as\\nit always does of our conduct.  i have great hope of prevailing.  we\\nmust be serious and decided; for after all, the person who has\\ncontracted debts must pay them; and though a great deal is due to the\\nfeelings of the gentleman, and the head of a house, like your father,\\nthere is still more due to the character of an honest man.']\n",
            "794\n"
          ],
          "name": "stdout"
        }
      ]
    },
    {
      "cell_type": "code",
      "metadata": {
        "colab": {
          "base_uri": "https://localhost:8080/"
        },
        "id": "pyhz1Ws7o5JA",
        "outputId": "86c9ec52-b9ee-4ce0-d486-ca9e9131fa84"
      },
      "source": [
        "import spacy\n",
        "import re\n",
        "import nltk\n",
        "#instantiating English module\n",
        "nlp = spacy.load('en_core_web_sm')\n",
        "nlp.max_length = 100000\n",
        "from nltk.stem import WordNetLemmatizer\n",
        "nltk.download('wordnet')\n",
        "stemmer = WordNetLemmatizer()\n",
        "clean_data = []\n",
        "for sen in range(0, len(data)):\n",
        "    # Remove all the special characters\n",
        "    document = re.sub(r'\\W', ' ', str(data[sen]))\n",
        "    # remove \"\\r\"\n",
        "    document = re.sub(r'\\r\\s+', ' ', document)\n",
        "    # remove all single characters\n",
        "    document = re.sub(r'\\s+[a-zA-Z]\\s+', ' ', document)\n",
        "    # Remove single characters from the start\n",
        "    document = re.sub(r'\\^[a-zA-Z]\\s+', ' ', document) \n",
        "    # Substituting multiple spaces with single space\n",
        "    document = re.sub(r'\\s+', ' ', document, flags=re.I)\n",
        "    # Lemmatization\n",
        "    document = document.split()\n",
        "    document = [stemmer.lemmatize(word) for word in document]\n",
        "    document = ' '.join(document)\n",
        "    clean_data.append(document)\n",
        "print(clean_data[:5])"
      ],
      "execution_count": null,
      "outputs": [
        {
          "output_type": "stream",
          "text": [
            "[nltk_data] Downloading package wordnet to /root/nltk_data...\n",
            "[nltk_data]   Unzipping corpora/wordnet.zip.\n",
            "['elliot of kellynch hall', 'walter elliot born march 1 1760 married july 15 1784 elizabeth daughter of james stevenson esq of south park in the county of gloucester by which lady who died 1800 he ha issue elizabeth born june 1 1785 anne born august 9 1787 still born son november 5 1789 mary born november 20 1791', 'married december 16 1810 charles son and heir of charles musgrove esq of uppercross in the county of somerset', 'principal seat kellynch hall in the county of somerset', 'heir presumptive william walter elliot esq great grandson of the second sir walter']\n"
          ],
          "name": "stdout"
        }
      ]
    },
    {
      "cell_type": "code",
      "metadata": {
        "colab": {
          "base_uri": "https://localhost:8080/"
        },
        "id": "RkdwcGgvmRvz",
        "outputId": "d96935c3-bd6e-419a-e137-b1a21fbd31ab"
      },
      "source": [
        "total_words = 0\n",
        "for i in range(len(clean_data)):\n",
        "  total_words = total_words + len(clean_data[i])\n",
        "  if \"\\n\" in clean_data[i]:\n",
        "    clean_data[i] = clean_data[i].replace(\"\\n\", \" \")\n",
        "print(\"Example for conversation clean data: \", clean_data[:10])\n",
        "print(\"Total words of conversation clean data\", total_words)"
      ],
      "execution_count": null,
      "outputs": [
        {
          "output_type": "stream",
          "text": [
            "Example for conversation clean data:  ['elliot of kellynch hall', 'walter elliot born march 1 1760 married july 15 1784 elizabeth daughter of james stevenson esq of south park in the county of gloucester by which lady who died 1800 he ha issue elizabeth born june 1 1785 anne born august 9 1787 still born son november 5 1789 mary born november 20 1791', 'married december 16 1810 charles son and heir of charles musgrove esq of uppercross in the county of somerset', 'principal seat kellynch hall in the county of somerset', 'heir presumptive william walter elliot esq great grandson of the second sir walter', 'for they must have been seen together', 'once at tattersall and twice in the lobby of the house of common', 'can we retrench doe it occur to you that there is any one article in which we can retrench', 'if we can persuade your father to all this', 'much may be done if he will adopt these regulation in seven year he will be clear and hope we may be able to convince him and elizabeth that kellynch hall ha respectability in itself which cannot be affected by these reduction and that the true dignity of sir walter elliot will be very far from lessened in the eye of sensible people by acting like man of principle what will he be doing in fact but what very many of our first family have done or ought to do there will be nothing singular in his case and it is singularity which often make the worst part of our suffering a it always doe of our conduct have great hope of prevailing we must be serious and decided for after all the person who ha contracted debt must pay them and though great deal is due to the feeling of the gentleman and the head of house like your father there is still more due to the character of an honest man']\n",
            "Total words of conversation clean data 164880\n"
          ],
          "name": "stdout"
        }
      ]
    },
    {
      "cell_type": "code",
      "metadata": {
        "id": "x4XelbM0jubj"
      },
      "source": [
        "output_file = open(\"/content/output.txt\", \"w\")\n",
        "    # # for test\n",
        "    # textfile_train = open(\"/home/gg-greenlab/Downloads/data_body_segmentaion/test_data/train_list.txt\", \"w\")\n",
        "for element in clean_data:\n",
        "    output_file.write(element + \"\\n\")\n",
        "output_file.close()"
      ],
      "execution_count": null,
      "outputs": []
    },
    {
      "cell_type": "code",
      "metadata": {
        "colab": {
          "base_uri": "https://localhost:8080/",
          "height": 17
        },
        "id": "1nTWw9wLK-hc",
        "outputId": "8a6edf10-6e87-4862-95e6-0791dd337fc9"
      },
      "source": [
        "from google.colab import files\n",
        "files.download(\"/content/output.txt\") "
      ],
      "execution_count": null,
      "outputs": [
        {
          "output_type": "display_data",
          "data": {
            "application/javascript": [
              "\n",
              "    async function download(id, filename, size) {\n",
              "      if (!google.colab.kernel.accessAllowed) {\n",
              "        return;\n",
              "      }\n",
              "      const div = document.createElement('div');\n",
              "      const label = document.createElement('label');\n",
              "      label.textContent = `Downloading \"${filename}\": `;\n",
              "      div.appendChild(label);\n",
              "      const progress = document.createElement('progress');\n",
              "      progress.max = size;\n",
              "      div.appendChild(progress);\n",
              "      document.body.appendChild(div);\n",
              "\n",
              "      const buffers = [];\n",
              "      let downloaded = 0;\n",
              "\n",
              "      const channel = await google.colab.kernel.comms.open(id);\n",
              "      // Send a message to notify the kernel that we're ready.\n",
              "      channel.send({})\n",
              "\n",
              "      for await (const message of channel.messages) {\n",
              "        // Send a message to notify the kernel that we're ready.\n",
              "        channel.send({})\n",
              "        if (message.buffers) {\n",
              "          for (const buffer of message.buffers) {\n",
              "            buffers.push(buffer);\n",
              "            downloaded += buffer.byteLength;\n",
              "            progress.value = downloaded;\n",
              "          }\n",
              "        }\n",
              "      }\n",
              "      const blob = new Blob(buffers, {type: 'application/binary'});\n",
              "      const a = document.createElement('a');\n",
              "      a.href = window.URL.createObjectURL(blob);\n",
              "      a.download = filename;\n",
              "      div.appendChild(a);\n",
              "      a.click();\n",
              "      div.remove();\n",
              "    }\n",
              "  "
            ],
            "text/plain": [
              "<IPython.core.display.Javascript object>"
            ]
          },
          "metadata": {
            "tags": []
          }
        },
        {
          "output_type": "display_data",
          "data": {
            "application/javascript": [
              "download(\"download_b5dce025-10c9-433a-bf92-55442d377b0a\", \"output.txt\", 165674)"
            ],
            "text/plain": [
              "<IPython.core.display.Javascript object>"
            ]
          },
          "metadata": {
            "tags": []
          }
        }
      ]
    }
  ]
}